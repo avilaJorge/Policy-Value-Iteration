{
  "nbformat": 4,
  "nbformat_minor": 0,
  "metadata": {
    "colab": {
      "name": "PolicyValueIters.ipynb",
      "provenance": [],
      "collapsed_sections": [],
      "authorship_tag": "ABX9TyML1SR6AQp367cb77Z/ksxK",
      "include_colab_link": true
    },
    "kernelspec": {
      "name": "python3",
      "display_name": "Python 3"
    }
  },
  "cells": [
    {
      "cell_type": "markdown",
      "metadata": {
        "id": "view-in-github",
        "colab_type": "text"
      },
      "source": [
        "<a href=\"https://colab.research.google.com/github/avilaJorge/Policy-Value-Iteration/blob/main/PolicyValueIters.ipynb\" target=\"_parent\"><img src=\"https://colab.research.google.com/assets/colab-badge.svg\" alt=\"Open In Colab\"/></a>"
      ]
    },
    {
      "cell_type": "code",
      "metadata": {
        "id": "pDX0XvmvA7js"
      },
      "source": [
        "import numpy as np\n",
        "import pandas as pd\n",
        "import pprint\n",
        "pp = pprint.PrettyPrinter(indent=9)\n",
        "pd.set_option('precision', 3)"
      ],
      "execution_count": null,
      "outputs": []
    },
    {
      "cell_type": "code",
      "metadata": {
        "id": "Vod4cFIDdZoX"
      },
      "source": [
        "fns = ['prob_a1.txt', 'prob_a2.txt', 'prob_a3.txt', 'prob_a4.txt']\n",
        "actions = ['←','↑','→','↓']\n",
        "n_states = 81\n",
        "n_rows   = 9\n",
        "gamma    = 0.99"
      ],
      "execution_count": null,
      "outputs": []
    },
    {
      "cell_type": "code",
      "metadata": {
        "id": "3N9eWK_KfhXj"
      },
      "source": [
        "trns_mx = []\n",
        "for fn in fns:\n",
        "    prob_mx = np.zeros((n_states, n_states))\n",
        "    with open(fn) as f:\n",
        "        for l in f.readlines():\n",
        "            col = l.strip().split()\n",
        "            assert(len(col) == 3)\n",
        "            prob_mx[int(col[0]) - 1, int(col[1]) - 1] = float(col[2])\n",
        "        trns_mx.append(prob_mx)\n",
        "\n",
        "# Check that matrices were loaded correctly\n",
        "for m in trns_mx:\n",
        "    for i in range(n_states):\n",
        "        assert(np.sum(m[i, :]) == 1)\n",
        "\n",
        "R_s = []\n",
        "with open('rewards.txt') as f:\n",
        "    for l in f.readlines():\n",
        "        R_s.append(int(l))\n",
        "R_s = np.array(R_s)"
      ],
      "execution_count": null,
      "outputs": []
    },
    {
      "cell_type": "markdown",
      "metadata": {
        "id": "TFxxA3OvJa5P"
      },
      "source": [
        "## Policy Iteration"
      ]
    },
    {
      "cell_type": "code",
      "metadata": {
        "id": "FtmuxKBAghJV"
      },
      "source": [
        "def policy_eval(policy):\n",
        "    V_pi = np.zeros((n_states, n_states))\n",
        "    I    = np.identity(n_states)\n",
        "\n",
        "    for s in range(n_states):\n",
        "        a = policy[s]\n",
        "        V_pi[s,:] = np.identity(n_states)[s,:] - gamma * trns_mx[a][s, :]\n",
        "    \n",
        "    V_pi = np.linalg.inv(V_pi)\n",
        "    V_pi = np.dot(V_pi, R_s)\n",
        "    return V_pi"
      ],
      "execution_count": null,
      "outputs": []
    },
    {
      "cell_type": "code",
      "metadata": {
        "id": "4aCo7jXHn6Mc"
      },
      "source": [
        "def policy_imp(s, policy):\n",
        "\n",
        "    ps = []\n",
        "    for a in range(len(actions)):\n",
        "        ps.append(np.sum(np.multiply(trns_mx[a][s, :], policy_eval(policy))))\n",
        "    return np.argmax(ps)"
      ],
      "execution_count": null,
      "outputs": []
    },
    {
      "cell_type": "code",
      "metadata": {
        "id": "0N49znZ6qF6Q"
      },
      "source": [
        "def policy_iteration():\n",
        "    policy = np.random.randint(len(actions), size=n_states)\n",
        "\n",
        "    V_new = policy_eval(policy)\n",
        "    V_old = np.zeros(n_states)\n",
        "    while (sum(V_old == V_new) != n_states):\n",
        "        V_old = np.copy(V_new)\n",
        "\n",
        "        policy_prime = []\n",
        "        for s in range(n_states):\n",
        "            policy_prime.append(policy_imp(s, policy))\n",
        "\n",
        "        V_new = policy_eval(policy_prime)\n",
        "\n",
        "        policy = policy_prime\n",
        "\n",
        "    return policy, V_new"
      ],
      "execution_count": null,
      "outputs": []
    },
    {
      "cell_type": "code",
      "metadata": {
        "id": "AlEjfGKqs_qR"
      },
      "source": [
        "pi_star, V_star = policy_iteration()"
      ],
      "execution_count": null,
      "outputs": []
    },
    {
      "cell_type": "code",
      "metadata": {
        "id": "78QfBpZ9vO6w",
        "colab": {
          "base_uri": "https://localhost:8080/",
          "height": 317
        },
        "outputId": "0fa1be06-e625-4fef-cf41-9907dff2fa5d"
      },
      "source": [
        "print_arr = np.flipud(np.rot90(V_star.reshape((9, 9))))\n",
        "print_list = []\n",
        "for i in range(9):\n",
        "    print_row = []\n",
        "    for j in range(9):\n",
        "        val = print_arr[i, j]\n",
        "        if val == 0.0:\n",
        "            print_row.append('Wall')\n",
        "        elif val < 0:\n",
        "            print_row.append('Dragon')\n",
        "        elif val >= 99.99:\n",
        "            print_row.append('Exit')\n",
        "        else:\n",
        "            print_row.append(\"%0.4f\" % val)\n",
        "    print_list.append(print_row)\n",
        "\n",
        "df = pd.DataFrame(print_arr)\n",
        "df"
      ],
      "execution_count": null,
      "outputs": [
        {
          "output_type": "execute_result",
          "data": {
            "text/html": [
              "<div>\n",
              "<style scoped>\n",
              "    .dataframe tbody tr th:only-of-type {\n",
              "        vertical-align: middle;\n",
              "    }\n",
              "\n",
              "    .dataframe tbody tr th {\n",
              "        vertical-align: top;\n",
              "    }\n",
              "\n",
              "    .dataframe thead th {\n",
              "        text-align: right;\n",
              "    }\n",
              "</style>\n",
              "<table border=\"1\" class=\"dataframe\">\n",
              "  <thead>\n",
              "    <tr style=\"text-align: right;\">\n",
              "      <th></th>\n",
              "      <th>0</th>\n",
              "      <th>1</th>\n",
              "      <th>2</th>\n",
              "      <th>3</th>\n",
              "      <th>4</th>\n",
              "      <th>5</th>\n",
              "      <th>6</th>\n",
              "      <th>7</th>\n",
              "      <th>8</th>\n",
              "    </tr>\n",
              "  </thead>\n",
              "  <tbody>\n",
              "    <tr>\n",
              "      <th>0</th>\n",
              "      <td>0.00</td>\n",
              "      <td>0.000</td>\n",
              "      <td>0.000</td>\n",
              "      <td>0.000</td>\n",
              "      <td>0.000</td>\n",
              "      <td>0.000</td>\n",
              "      <td>0.000</td>\n",
              "      <td>0.000</td>\n",
              "      <td>0.000</td>\n",
              "    </tr>\n",
              "    <tr>\n",
              "      <th>1</th>\n",
              "      <td>0.00</td>\n",
              "      <td>65.773</td>\n",
              "      <td>67.136</td>\n",
              "      <td>77.846</td>\n",
              "      <td>79.845</td>\n",
              "      <td>72.475</td>\n",
              "      <td>-100.000</td>\n",
              "      <td>0.000</td>\n",
              "      <td>100.000</td>\n",
              "    </tr>\n",
              "    <tr>\n",
              "      <th>2</th>\n",
              "      <td>0.00</td>\n",
              "      <td>55.883</td>\n",
              "      <td>-100.000</td>\n",
              "      <td>70.308</td>\n",
              "      <td>81.344</td>\n",
              "      <td>83.048</td>\n",
              "      <td>84.881</td>\n",
              "      <td>96.872</td>\n",
              "      <td>98.719</td>\n",
              "    </tr>\n",
              "    <tr>\n",
              "      <th>3</th>\n",
              "      <td>0.00</td>\n",
              "      <td>54.923</td>\n",
              "      <td>50.477</td>\n",
              "      <td>59.666</td>\n",
              "      <td>0.000</td>\n",
              "      <td>80.958</td>\n",
              "      <td>0.000</td>\n",
              "      <td>97.045</td>\n",
              "      <td>98.727</td>\n",
              "    </tr>\n",
              "    <tr>\n",
              "      <th>4</th>\n",
              "      <td>53.51</td>\n",
              "      <td>54.146</td>\n",
              "      <td>0.000</td>\n",
              "      <td>-100.000</td>\n",
              "      <td>-100.000</td>\n",
              "      <td>61.780</td>\n",
              "      <td>-100.000</td>\n",
              "      <td>88.220</td>\n",
              "      <td>100.000</td>\n",
              "    </tr>\n",
              "    <tr>\n",
              "      <th>5</th>\n",
              "      <td>0.00</td>\n",
              "      <td>52.504</td>\n",
              "      <td>43.936</td>\n",
              "      <td>51.091</td>\n",
              "      <td>61.007</td>\n",
              "      <td>71.786</td>\n",
              "      <td>73.947</td>\n",
              "      <td>85.185</td>\n",
              "      <td>97.573</td>\n",
              "    </tr>\n",
              "    <tr>\n",
              "      <th>6</th>\n",
              "      <td>0.00</td>\n",
              "      <td>43.773</td>\n",
              "      <td>-100.000</td>\n",
              "      <td>0.000</td>\n",
              "      <td>0.000</td>\n",
              "      <td>70.351</td>\n",
              "      <td>0.000</td>\n",
              "      <td>-100.000</td>\n",
              "      <td>88.406</td>\n",
              "    </tr>\n",
              "    <tr>\n",
              "      <th>7</th>\n",
              "      <td>0.00</td>\n",
              "      <td>47.953</td>\n",
              "      <td>48.769</td>\n",
              "      <td>58.147</td>\n",
              "      <td>59.390</td>\n",
              "      <td>60.169</td>\n",
              "      <td>-100.000</td>\n",
              "      <td>0.000</td>\n",
              "      <td>100.000</td>\n",
              "    </tr>\n",
              "    <tr>\n",
              "      <th>8</th>\n",
              "      <td>0.00</td>\n",
              "      <td>0.000</td>\n",
              "      <td>0.000</td>\n",
              "      <td>0.000</td>\n",
              "      <td>0.000</td>\n",
              "      <td>0.000</td>\n",
              "      <td>0.000</td>\n",
              "      <td>0.000</td>\n",
              "      <td>0.000</td>\n",
              "    </tr>\n",
              "  </tbody>\n",
              "</table>\n",
              "</div>"
            ],
            "text/plain": [
              "       0       1        2        3        4       5        6        7        8\n",
              "0   0.00   0.000    0.000    0.000    0.000   0.000    0.000    0.000    0.000\n",
              "1   0.00  65.773   67.136   77.846   79.845  72.475 -100.000    0.000  100.000\n",
              "2   0.00  55.883 -100.000   70.308   81.344  83.048   84.881   96.872   98.719\n",
              "3   0.00  54.923   50.477   59.666    0.000  80.958    0.000   97.045   98.727\n",
              "4  53.51  54.146    0.000 -100.000 -100.000  61.780 -100.000   88.220  100.000\n",
              "5   0.00  52.504   43.936   51.091   61.007  71.786   73.947   85.185   97.573\n",
              "6   0.00  43.773 -100.000    0.000    0.000  70.351    0.000 -100.000   88.406\n",
              "7   0.00  47.953   48.769   58.147   59.390  60.169 -100.000    0.000  100.000\n",
              "8   0.00   0.000    0.000    0.000    0.000   0.000    0.000    0.000    0.000"
            ]
          },
          "metadata": {
            "tags": []
          },
          "execution_count": 8
        }
      ]
    },
    {
      "cell_type": "code",
      "metadata": {
        "id": "USYkSfE3-FKd"
      },
      "source": [
        "def color_map(val):\n",
        "    \"\"\"\n",
        "    Takes a scalar and returns a string with\n",
        "    the css property `'color: red'` for negative\n",
        "    strings, black otherwise.\n",
        "    \"\"\"\n",
        "    if val == 'Dragon':\n",
        "        color = 'red'\n",
        "    elif val == 'Exit':\n",
        "        color = 'blue'\n",
        "    elif val == 'Wall':\n",
        "        color = 'gray'\n",
        "    else:\n",
        "        color = 'black'\n",
        "    return 'color: %s' % color"
      ],
      "execution_count": null,
      "outputs": []
    },
    {
      "cell_type": "code",
      "metadata": {
        "colab": {
          "base_uri": "https://localhost:8080/",
          "height": 218
        },
        "id": "zsiPC7wD9LxG",
        "outputId": "4b17993b-1ce3-4d42-da2c-0cf605abeb5c"
      },
      "source": [
        "df = pd.DataFrame(print_list)\n",
        "s = df.style.applymap(color_map)\n",
        "s"
      ],
      "execution_count": null,
      "outputs": [
        {
          "output_type": "execute_result",
          "data": {
            "text/html": [
              "<style  type=\"text/css\" >\n",
              "#T_fbe8dee2_3b27_11eb_9f87_0242ac1c0002row0_col0,#T_fbe8dee2_3b27_11eb_9f87_0242ac1c0002row0_col1,#T_fbe8dee2_3b27_11eb_9f87_0242ac1c0002row0_col2,#T_fbe8dee2_3b27_11eb_9f87_0242ac1c0002row0_col3,#T_fbe8dee2_3b27_11eb_9f87_0242ac1c0002row0_col4,#T_fbe8dee2_3b27_11eb_9f87_0242ac1c0002row0_col5,#T_fbe8dee2_3b27_11eb_9f87_0242ac1c0002row0_col6,#T_fbe8dee2_3b27_11eb_9f87_0242ac1c0002row0_col7,#T_fbe8dee2_3b27_11eb_9f87_0242ac1c0002row0_col8,#T_fbe8dee2_3b27_11eb_9f87_0242ac1c0002row1_col0,#T_fbe8dee2_3b27_11eb_9f87_0242ac1c0002row1_col7,#T_fbe8dee2_3b27_11eb_9f87_0242ac1c0002row2_col0,#T_fbe8dee2_3b27_11eb_9f87_0242ac1c0002row3_col0,#T_fbe8dee2_3b27_11eb_9f87_0242ac1c0002row3_col4,#T_fbe8dee2_3b27_11eb_9f87_0242ac1c0002row3_col6,#T_fbe8dee2_3b27_11eb_9f87_0242ac1c0002row4_col2,#T_fbe8dee2_3b27_11eb_9f87_0242ac1c0002row5_col0,#T_fbe8dee2_3b27_11eb_9f87_0242ac1c0002row6_col0,#T_fbe8dee2_3b27_11eb_9f87_0242ac1c0002row6_col3,#T_fbe8dee2_3b27_11eb_9f87_0242ac1c0002row6_col4,#T_fbe8dee2_3b27_11eb_9f87_0242ac1c0002row6_col6,#T_fbe8dee2_3b27_11eb_9f87_0242ac1c0002row7_col0,#T_fbe8dee2_3b27_11eb_9f87_0242ac1c0002row7_col7,#T_fbe8dee2_3b27_11eb_9f87_0242ac1c0002row8_col0,#T_fbe8dee2_3b27_11eb_9f87_0242ac1c0002row8_col1,#T_fbe8dee2_3b27_11eb_9f87_0242ac1c0002row8_col2,#T_fbe8dee2_3b27_11eb_9f87_0242ac1c0002row8_col3,#T_fbe8dee2_3b27_11eb_9f87_0242ac1c0002row8_col4,#T_fbe8dee2_3b27_11eb_9f87_0242ac1c0002row8_col5,#T_fbe8dee2_3b27_11eb_9f87_0242ac1c0002row8_col6,#T_fbe8dee2_3b27_11eb_9f87_0242ac1c0002row8_col7,#T_fbe8dee2_3b27_11eb_9f87_0242ac1c0002row8_col8{\n",
              "            color:  gray;\n",
              "        }#T_fbe8dee2_3b27_11eb_9f87_0242ac1c0002row1_col1,#T_fbe8dee2_3b27_11eb_9f87_0242ac1c0002row1_col2,#T_fbe8dee2_3b27_11eb_9f87_0242ac1c0002row1_col3,#T_fbe8dee2_3b27_11eb_9f87_0242ac1c0002row1_col4,#T_fbe8dee2_3b27_11eb_9f87_0242ac1c0002row1_col5,#T_fbe8dee2_3b27_11eb_9f87_0242ac1c0002row2_col1,#T_fbe8dee2_3b27_11eb_9f87_0242ac1c0002row2_col3,#T_fbe8dee2_3b27_11eb_9f87_0242ac1c0002row2_col4,#T_fbe8dee2_3b27_11eb_9f87_0242ac1c0002row2_col5,#T_fbe8dee2_3b27_11eb_9f87_0242ac1c0002row2_col6,#T_fbe8dee2_3b27_11eb_9f87_0242ac1c0002row2_col7,#T_fbe8dee2_3b27_11eb_9f87_0242ac1c0002row2_col8,#T_fbe8dee2_3b27_11eb_9f87_0242ac1c0002row3_col1,#T_fbe8dee2_3b27_11eb_9f87_0242ac1c0002row3_col2,#T_fbe8dee2_3b27_11eb_9f87_0242ac1c0002row3_col3,#T_fbe8dee2_3b27_11eb_9f87_0242ac1c0002row3_col5,#T_fbe8dee2_3b27_11eb_9f87_0242ac1c0002row3_col7,#T_fbe8dee2_3b27_11eb_9f87_0242ac1c0002row3_col8,#T_fbe8dee2_3b27_11eb_9f87_0242ac1c0002row4_col0,#T_fbe8dee2_3b27_11eb_9f87_0242ac1c0002row4_col1,#T_fbe8dee2_3b27_11eb_9f87_0242ac1c0002row4_col5,#T_fbe8dee2_3b27_11eb_9f87_0242ac1c0002row4_col7,#T_fbe8dee2_3b27_11eb_9f87_0242ac1c0002row5_col1,#T_fbe8dee2_3b27_11eb_9f87_0242ac1c0002row5_col2,#T_fbe8dee2_3b27_11eb_9f87_0242ac1c0002row5_col3,#T_fbe8dee2_3b27_11eb_9f87_0242ac1c0002row5_col4,#T_fbe8dee2_3b27_11eb_9f87_0242ac1c0002row5_col5,#T_fbe8dee2_3b27_11eb_9f87_0242ac1c0002row5_col6,#T_fbe8dee2_3b27_11eb_9f87_0242ac1c0002row5_col7,#T_fbe8dee2_3b27_11eb_9f87_0242ac1c0002row5_col8,#T_fbe8dee2_3b27_11eb_9f87_0242ac1c0002row6_col1,#T_fbe8dee2_3b27_11eb_9f87_0242ac1c0002row6_col5,#T_fbe8dee2_3b27_11eb_9f87_0242ac1c0002row6_col8,#T_fbe8dee2_3b27_11eb_9f87_0242ac1c0002row7_col1,#T_fbe8dee2_3b27_11eb_9f87_0242ac1c0002row7_col2,#T_fbe8dee2_3b27_11eb_9f87_0242ac1c0002row7_col3,#T_fbe8dee2_3b27_11eb_9f87_0242ac1c0002row7_col4,#T_fbe8dee2_3b27_11eb_9f87_0242ac1c0002row7_col5{\n",
              "            color:  black;\n",
              "        }#T_fbe8dee2_3b27_11eb_9f87_0242ac1c0002row1_col6,#T_fbe8dee2_3b27_11eb_9f87_0242ac1c0002row2_col2,#T_fbe8dee2_3b27_11eb_9f87_0242ac1c0002row4_col3,#T_fbe8dee2_3b27_11eb_9f87_0242ac1c0002row4_col4,#T_fbe8dee2_3b27_11eb_9f87_0242ac1c0002row4_col6,#T_fbe8dee2_3b27_11eb_9f87_0242ac1c0002row6_col2,#T_fbe8dee2_3b27_11eb_9f87_0242ac1c0002row6_col7,#T_fbe8dee2_3b27_11eb_9f87_0242ac1c0002row7_col6{\n",
              "            color:  red;\n",
              "        }#T_fbe8dee2_3b27_11eb_9f87_0242ac1c0002row1_col8,#T_fbe8dee2_3b27_11eb_9f87_0242ac1c0002row4_col8,#T_fbe8dee2_3b27_11eb_9f87_0242ac1c0002row7_col8{\n",
              "            color:  blue;\n",
              "        }</style><table id=\"T_fbe8dee2_3b27_11eb_9f87_0242ac1c0002\" ><thead>    <tr>        <th class=\"blank level0\" ></th>        <th class=\"col_heading level0 col0\" >0</th>        <th class=\"col_heading level0 col1\" >1</th>        <th class=\"col_heading level0 col2\" >2</th>        <th class=\"col_heading level0 col3\" >3</th>        <th class=\"col_heading level0 col4\" >4</th>        <th class=\"col_heading level0 col5\" >5</th>        <th class=\"col_heading level0 col6\" >6</th>        <th class=\"col_heading level0 col7\" >7</th>        <th class=\"col_heading level0 col8\" >8</th>    </tr></thead><tbody>\n",
              "                <tr>\n",
              "                        <th id=\"T_fbe8dee2_3b27_11eb_9f87_0242ac1c0002level0_row0\" class=\"row_heading level0 row0\" >0</th>\n",
              "                        <td id=\"T_fbe8dee2_3b27_11eb_9f87_0242ac1c0002row0_col0\" class=\"data row0 col0\" >Wall</td>\n",
              "                        <td id=\"T_fbe8dee2_3b27_11eb_9f87_0242ac1c0002row0_col1\" class=\"data row0 col1\" >Wall</td>\n",
              "                        <td id=\"T_fbe8dee2_3b27_11eb_9f87_0242ac1c0002row0_col2\" class=\"data row0 col2\" >Wall</td>\n",
              "                        <td id=\"T_fbe8dee2_3b27_11eb_9f87_0242ac1c0002row0_col3\" class=\"data row0 col3\" >Wall</td>\n",
              "                        <td id=\"T_fbe8dee2_3b27_11eb_9f87_0242ac1c0002row0_col4\" class=\"data row0 col4\" >Wall</td>\n",
              "                        <td id=\"T_fbe8dee2_3b27_11eb_9f87_0242ac1c0002row0_col5\" class=\"data row0 col5\" >Wall</td>\n",
              "                        <td id=\"T_fbe8dee2_3b27_11eb_9f87_0242ac1c0002row0_col6\" class=\"data row0 col6\" >Wall</td>\n",
              "                        <td id=\"T_fbe8dee2_3b27_11eb_9f87_0242ac1c0002row0_col7\" class=\"data row0 col7\" >Wall</td>\n",
              "                        <td id=\"T_fbe8dee2_3b27_11eb_9f87_0242ac1c0002row0_col8\" class=\"data row0 col8\" >Wall</td>\n",
              "            </tr>\n",
              "            <tr>\n",
              "                        <th id=\"T_fbe8dee2_3b27_11eb_9f87_0242ac1c0002level0_row1\" class=\"row_heading level0 row1\" >1</th>\n",
              "                        <td id=\"T_fbe8dee2_3b27_11eb_9f87_0242ac1c0002row1_col0\" class=\"data row1 col0\" >Wall</td>\n",
              "                        <td id=\"T_fbe8dee2_3b27_11eb_9f87_0242ac1c0002row1_col1\" class=\"data row1 col1\" >65.7731</td>\n",
              "                        <td id=\"T_fbe8dee2_3b27_11eb_9f87_0242ac1c0002row1_col2\" class=\"data row1 col2\" >67.1365</td>\n",
              "                        <td id=\"T_fbe8dee2_3b27_11eb_9f87_0242ac1c0002row1_col3\" class=\"data row1 col3\" >77.8460</td>\n",
              "                        <td id=\"T_fbe8dee2_3b27_11eb_9f87_0242ac1c0002row1_col4\" class=\"data row1 col4\" >79.8445</td>\n",
              "                        <td id=\"T_fbe8dee2_3b27_11eb_9f87_0242ac1c0002row1_col5\" class=\"data row1 col5\" >72.4751</td>\n",
              "                        <td id=\"T_fbe8dee2_3b27_11eb_9f87_0242ac1c0002row1_col6\" class=\"data row1 col6\" >Dragon</td>\n",
              "                        <td id=\"T_fbe8dee2_3b27_11eb_9f87_0242ac1c0002row1_col7\" class=\"data row1 col7\" >Wall</td>\n",
              "                        <td id=\"T_fbe8dee2_3b27_11eb_9f87_0242ac1c0002row1_col8\" class=\"data row1 col8\" >Exit</td>\n",
              "            </tr>\n",
              "            <tr>\n",
              "                        <th id=\"T_fbe8dee2_3b27_11eb_9f87_0242ac1c0002level0_row2\" class=\"row_heading level0 row2\" >2</th>\n",
              "                        <td id=\"T_fbe8dee2_3b27_11eb_9f87_0242ac1c0002row2_col0\" class=\"data row2 col0\" >Wall</td>\n",
              "                        <td id=\"T_fbe8dee2_3b27_11eb_9f87_0242ac1c0002row2_col1\" class=\"data row2 col1\" >55.8829</td>\n",
              "                        <td id=\"T_fbe8dee2_3b27_11eb_9f87_0242ac1c0002row2_col2\" class=\"data row2 col2\" >Dragon</td>\n",
              "                        <td id=\"T_fbe8dee2_3b27_11eb_9f87_0242ac1c0002row2_col3\" class=\"data row2 col3\" >70.3082</td>\n",
              "                        <td id=\"T_fbe8dee2_3b27_11eb_9f87_0242ac1c0002row2_col4\" class=\"data row2 col4\" >81.3444</td>\n",
              "                        <td id=\"T_fbe8dee2_3b27_11eb_9f87_0242ac1c0002row2_col5\" class=\"data row2 col5\" >83.0485</td>\n",
              "                        <td id=\"T_fbe8dee2_3b27_11eb_9f87_0242ac1c0002row2_col6\" class=\"data row2 col6\" >84.8805</td>\n",
              "                        <td id=\"T_fbe8dee2_3b27_11eb_9f87_0242ac1c0002row2_col7\" class=\"data row2 col7\" >96.8723</td>\n",
              "                        <td id=\"T_fbe8dee2_3b27_11eb_9f87_0242ac1c0002row2_col8\" class=\"data row2 col8\" >98.7188</td>\n",
              "            </tr>\n",
              "            <tr>\n",
              "                        <th id=\"T_fbe8dee2_3b27_11eb_9f87_0242ac1c0002level0_row3\" class=\"row_heading level0 row3\" >3</th>\n",
              "                        <td id=\"T_fbe8dee2_3b27_11eb_9f87_0242ac1c0002row3_col0\" class=\"data row3 col0\" >Wall</td>\n",
              "                        <td id=\"T_fbe8dee2_3b27_11eb_9f87_0242ac1c0002row3_col1\" class=\"data row3 col1\" >54.9230</td>\n",
              "                        <td id=\"T_fbe8dee2_3b27_11eb_9f87_0242ac1c0002row3_col2\" class=\"data row3 col2\" >50.4766</td>\n",
              "                        <td id=\"T_fbe8dee2_3b27_11eb_9f87_0242ac1c0002row3_col3\" class=\"data row3 col3\" >59.6664</td>\n",
              "                        <td id=\"T_fbe8dee2_3b27_11eb_9f87_0242ac1c0002row3_col4\" class=\"data row3 col4\" >Wall</td>\n",
              "                        <td id=\"T_fbe8dee2_3b27_11eb_9f87_0242ac1c0002row3_col5\" class=\"data row3 col5\" >80.9583</td>\n",
              "                        <td id=\"T_fbe8dee2_3b27_11eb_9f87_0242ac1c0002row3_col6\" class=\"data row3 col6\" >Wall</td>\n",
              "                        <td id=\"T_fbe8dee2_3b27_11eb_9f87_0242ac1c0002row3_col7\" class=\"data row3 col7\" >97.0448</td>\n",
              "                        <td id=\"T_fbe8dee2_3b27_11eb_9f87_0242ac1c0002row3_col8\" class=\"data row3 col8\" >98.7273</td>\n",
              "            </tr>\n",
              "            <tr>\n",
              "                        <th id=\"T_fbe8dee2_3b27_11eb_9f87_0242ac1c0002level0_row4\" class=\"row_heading level0 row4\" >4</th>\n",
              "                        <td id=\"T_fbe8dee2_3b27_11eb_9f87_0242ac1c0002row4_col0\" class=\"data row4 col0\" >53.5097</td>\n",
              "                        <td id=\"T_fbe8dee2_3b27_11eb_9f87_0242ac1c0002row4_col1\" class=\"data row4 col1\" >54.1456</td>\n",
              "                        <td id=\"T_fbe8dee2_3b27_11eb_9f87_0242ac1c0002row4_col2\" class=\"data row4 col2\" >Wall</td>\n",
              "                        <td id=\"T_fbe8dee2_3b27_11eb_9f87_0242ac1c0002row4_col3\" class=\"data row4 col3\" >Dragon</td>\n",
              "                        <td id=\"T_fbe8dee2_3b27_11eb_9f87_0242ac1c0002row4_col4\" class=\"data row4 col4\" >Dragon</td>\n",
              "                        <td id=\"T_fbe8dee2_3b27_11eb_9f87_0242ac1c0002row4_col5\" class=\"data row4 col5\" >61.7798</td>\n",
              "                        <td id=\"T_fbe8dee2_3b27_11eb_9f87_0242ac1c0002row4_col6\" class=\"data row4 col6\" >Dragon</td>\n",
              "                        <td id=\"T_fbe8dee2_3b27_11eb_9f87_0242ac1c0002row4_col7\" class=\"data row4 col7\" >88.2204</td>\n",
              "                        <td id=\"T_fbe8dee2_3b27_11eb_9f87_0242ac1c0002row4_col8\" class=\"data row4 col8\" >Exit</td>\n",
              "            </tr>\n",
              "            <tr>\n",
              "                        <th id=\"T_fbe8dee2_3b27_11eb_9f87_0242ac1c0002level0_row5\" class=\"row_heading level0 row5\" >5</th>\n",
              "                        <td id=\"T_fbe8dee2_3b27_11eb_9f87_0242ac1c0002row5_col0\" class=\"data row5 col0\" >Wall</td>\n",
              "                        <td id=\"T_fbe8dee2_3b27_11eb_9f87_0242ac1c0002row5_col1\" class=\"data row5 col1\" >52.5040</td>\n",
              "                        <td id=\"T_fbe8dee2_3b27_11eb_9f87_0242ac1c0002row5_col2\" class=\"data row5 col2\" >43.9360</td>\n",
              "                        <td id=\"T_fbe8dee2_3b27_11eb_9f87_0242ac1c0002row5_col3\" class=\"data row5 col3\" >51.0914</td>\n",
              "                        <td id=\"T_fbe8dee2_3b27_11eb_9f87_0242ac1c0002row5_col4\" class=\"data row5 col4\" >61.0072</td>\n",
              "                        <td id=\"T_fbe8dee2_3b27_11eb_9f87_0242ac1c0002row5_col5\" class=\"data row5 col5\" >71.7864</td>\n",
              "                        <td id=\"T_fbe8dee2_3b27_11eb_9f87_0242ac1c0002row5_col6\" class=\"data row5 col6\" >73.9466</td>\n",
              "                        <td id=\"T_fbe8dee2_3b27_11eb_9f87_0242ac1c0002row5_col7\" class=\"data row5 col7\" >85.1846</td>\n",
              "                        <td id=\"T_fbe8dee2_3b27_11eb_9f87_0242ac1c0002row5_col8\" class=\"data row5 col8\" >97.5726</td>\n",
              "            </tr>\n",
              "            <tr>\n",
              "                        <th id=\"T_fbe8dee2_3b27_11eb_9f87_0242ac1c0002level0_row6\" class=\"row_heading level0 row6\" >6</th>\n",
              "                        <td id=\"T_fbe8dee2_3b27_11eb_9f87_0242ac1c0002row6_col0\" class=\"data row6 col0\" >Wall</td>\n",
              "                        <td id=\"T_fbe8dee2_3b27_11eb_9f87_0242ac1c0002row6_col1\" class=\"data row6 col1\" >43.7725</td>\n",
              "                        <td id=\"T_fbe8dee2_3b27_11eb_9f87_0242ac1c0002row6_col2\" class=\"data row6 col2\" >Dragon</td>\n",
              "                        <td id=\"T_fbe8dee2_3b27_11eb_9f87_0242ac1c0002row6_col3\" class=\"data row6 col3\" >Wall</td>\n",
              "                        <td id=\"T_fbe8dee2_3b27_11eb_9f87_0242ac1c0002row6_col4\" class=\"data row6 col4\" >Wall</td>\n",
              "                        <td id=\"T_fbe8dee2_3b27_11eb_9f87_0242ac1c0002row6_col5\" class=\"data row6 col5\" >70.3514</td>\n",
              "                        <td id=\"T_fbe8dee2_3b27_11eb_9f87_0242ac1c0002row6_col6\" class=\"data row6 col6\" >Wall</td>\n",
              "                        <td id=\"T_fbe8dee2_3b27_11eb_9f87_0242ac1c0002row6_col7\" class=\"data row6 col7\" >Dragon</td>\n",
              "                        <td id=\"T_fbe8dee2_3b27_11eb_9f87_0242ac1c0002row6_col8\" class=\"data row6 col8\" >88.4059</td>\n",
              "            </tr>\n",
              "            <tr>\n",
              "                        <th id=\"T_fbe8dee2_3b27_11eb_9f87_0242ac1c0002level0_row7\" class=\"row_heading level0 row7\" >7</th>\n",
              "                        <td id=\"T_fbe8dee2_3b27_11eb_9f87_0242ac1c0002row7_col0\" class=\"data row7 col0\" >Wall</td>\n",
              "                        <td id=\"T_fbe8dee2_3b27_11eb_9f87_0242ac1c0002row7_col1\" class=\"data row7 col1\" >47.9530</td>\n",
              "                        <td id=\"T_fbe8dee2_3b27_11eb_9f87_0242ac1c0002row7_col2\" class=\"data row7 col2\" >48.7687</td>\n",
              "                        <td id=\"T_fbe8dee2_3b27_11eb_9f87_0242ac1c0002row7_col3\" class=\"data row7 col3\" >58.1474</td>\n",
              "                        <td id=\"T_fbe8dee2_3b27_11eb_9f87_0242ac1c0002row7_col4\" class=\"data row7 col4\" >59.3900</td>\n",
              "                        <td id=\"T_fbe8dee2_3b27_11eb_9f87_0242ac1c0002row7_col5\" class=\"data row7 col5\" >60.1689</td>\n",
              "                        <td id=\"T_fbe8dee2_3b27_11eb_9f87_0242ac1c0002row7_col6\" class=\"data row7 col6\" >Dragon</td>\n",
              "                        <td id=\"T_fbe8dee2_3b27_11eb_9f87_0242ac1c0002row7_col7\" class=\"data row7 col7\" >Wall</td>\n",
              "                        <td id=\"T_fbe8dee2_3b27_11eb_9f87_0242ac1c0002row7_col8\" class=\"data row7 col8\" >Exit</td>\n",
              "            </tr>\n",
              "            <tr>\n",
              "                        <th id=\"T_fbe8dee2_3b27_11eb_9f87_0242ac1c0002level0_row8\" class=\"row_heading level0 row8\" >8</th>\n",
              "                        <td id=\"T_fbe8dee2_3b27_11eb_9f87_0242ac1c0002row8_col0\" class=\"data row8 col0\" >Wall</td>\n",
              "                        <td id=\"T_fbe8dee2_3b27_11eb_9f87_0242ac1c0002row8_col1\" class=\"data row8 col1\" >Wall</td>\n",
              "                        <td id=\"T_fbe8dee2_3b27_11eb_9f87_0242ac1c0002row8_col2\" class=\"data row8 col2\" >Wall</td>\n",
              "                        <td id=\"T_fbe8dee2_3b27_11eb_9f87_0242ac1c0002row8_col3\" class=\"data row8 col3\" >Wall</td>\n",
              "                        <td id=\"T_fbe8dee2_3b27_11eb_9f87_0242ac1c0002row8_col4\" class=\"data row8 col4\" >Wall</td>\n",
              "                        <td id=\"T_fbe8dee2_3b27_11eb_9f87_0242ac1c0002row8_col5\" class=\"data row8 col5\" >Wall</td>\n",
              "                        <td id=\"T_fbe8dee2_3b27_11eb_9f87_0242ac1c0002row8_col6\" class=\"data row8 col6\" >Wall</td>\n",
              "                        <td id=\"T_fbe8dee2_3b27_11eb_9f87_0242ac1c0002row8_col7\" class=\"data row8 col7\" >Wall</td>\n",
              "                        <td id=\"T_fbe8dee2_3b27_11eb_9f87_0242ac1c0002row8_col8\" class=\"data row8 col8\" >Wall</td>\n",
              "            </tr>\n",
              "    </tbody></table>"
            ],
            "text/plain": [
              "<pandas.io.formats.style.Styler at 0x7fc335a0a588>"
            ]
          },
          "metadata": {
            "tags": []
          },
          "execution_count": 10
        }
      ]
    },
    {
      "cell_type": "code",
      "metadata": {
        "id": "8pgcGKsp_PZG"
      },
      "source": [
        "opt_policy_map = []\n",
        "unexprbl = ['Wall', 'Dragon', 'Exit']\n",
        "for i in range(9):\n",
        "    row_list = []\n",
        "    for j in range(9):\n",
        "        val = V_star[i * j]\n",
        "        row_list.append(actions[pi_star[int(i * j)]])\n",
        "    opt_policy_map.append(row_list)"
      ],
      "execution_count": null,
      "outputs": []
    },
    {
      "cell_type": "code",
      "metadata": {
        "id": "7xQU05ENA-TZ"
      },
      "source": [
        "arrow_map = np.flipud(np.rot90(np.array(opt_policy_map).reshape((9, 9))))"
      ],
      "execution_count": null,
      "outputs": []
    },
    {
      "cell_type": "code",
      "metadata": {
        "id": "pTJJpiyLBSCB"
      },
      "source": [
        "opt_policy_map = []\n",
        "arrow_map = np.flipud(np.rot90(np.array(pi_star).reshape(9, 9)))\n",
        "for i in range(9):\n",
        "    row_list = []\n",
        "    for j in range(9):\n",
        "        val = print_list[i][j]\n",
        "        if val in unexprbl:\n",
        "            row_list.append(val)\n",
        "        else:\n",
        "            row_list.append(actions[arrow_map[i, j]])\n",
        "    opt_policy_map.append(row_list)"
      ],
      "execution_count": null,
      "outputs": []
    },
    {
      "cell_type": "code",
      "metadata": {
        "colab": {
          "base_uri": "https://localhost:8080/",
          "height": 218
        },
        "id": "bMSXzeLQAJ1q",
        "outputId": "c31eb4a1-bcd8-4574-e455-ed18dc0750cc"
      },
      "source": [
        "df = pd.DataFrame(opt_policy_map)\n",
        "s = df.style.applymap(color_map)\n",
        "s"
      ],
      "execution_count": null,
      "outputs": [
        {
          "output_type": "execute_result",
          "data": {
            "text/html": [
              "<style  type=\"text/css\" >\n",
              "#T_fbf3292e_3b27_11eb_9f87_0242ac1c0002row0_col0,#T_fbf3292e_3b27_11eb_9f87_0242ac1c0002row0_col1,#T_fbf3292e_3b27_11eb_9f87_0242ac1c0002row0_col2,#T_fbf3292e_3b27_11eb_9f87_0242ac1c0002row0_col3,#T_fbf3292e_3b27_11eb_9f87_0242ac1c0002row0_col4,#T_fbf3292e_3b27_11eb_9f87_0242ac1c0002row0_col5,#T_fbf3292e_3b27_11eb_9f87_0242ac1c0002row0_col6,#T_fbf3292e_3b27_11eb_9f87_0242ac1c0002row0_col7,#T_fbf3292e_3b27_11eb_9f87_0242ac1c0002row0_col8,#T_fbf3292e_3b27_11eb_9f87_0242ac1c0002row1_col0,#T_fbf3292e_3b27_11eb_9f87_0242ac1c0002row1_col7,#T_fbf3292e_3b27_11eb_9f87_0242ac1c0002row2_col0,#T_fbf3292e_3b27_11eb_9f87_0242ac1c0002row3_col0,#T_fbf3292e_3b27_11eb_9f87_0242ac1c0002row3_col4,#T_fbf3292e_3b27_11eb_9f87_0242ac1c0002row3_col6,#T_fbf3292e_3b27_11eb_9f87_0242ac1c0002row4_col2,#T_fbf3292e_3b27_11eb_9f87_0242ac1c0002row5_col0,#T_fbf3292e_3b27_11eb_9f87_0242ac1c0002row6_col0,#T_fbf3292e_3b27_11eb_9f87_0242ac1c0002row6_col3,#T_fbf3292e_3b27_11eb_9f87_0242ac1c0002row6_col4,#T_fbf3292e_3b27_11eb_9f87_0242ac1c0002row6_col6,#T_fbf3292e_3b27_11eb_9f87_0242ac1c0002row7_col0,#T_fbf3292e_3b27_11eb_9f87_0242ac1c0002row7_col7,#T_fbf3292e_3b27_11eb_9f87_0242ac1c0002row8_col0,#T_fbf3292e_3b27_11eb_9f87_0242ac1c0002row8_col1,#T_fbf3292e_3b27_11eb_9f87_0242ac1c0002row8_col2,#T_fbf3292e_3b27_11eb_9f87_0242ac1c0002row8_col3,#T_fbf3292e_3b27_11eb_9f87_0242ac1c0002row8_col4,#T_fbf3292e_3b27_11eb_9f87_0242ac1c0002row8_col5,#T_fbf3292e_3b27_11eb_9f87_0242ac1c0002row8_col6,#T_fbf3292e_3b27_11eb_9f87_0242ac1c0002row8_col7,#T_fbf3292e_3b27_11eb_9f87_0242ac1c0002row8_col8{\n",
              "            color:  gray;\n",
              "        }#T_fbf3292e_3b27_11eb_9f87_0242ac1c0002row1_col1,#T_fbf3292e_3b27_11eb_9f87_0242ac1c0002row1_col2,#T_fbf3292e_3b27_11eb_9f87_0242ac1c0002row1_col3,#T_fbf3292e_3b27_11eb_9f87_0242ac1c0002row1_col4,#T_fbf3292e_3b27_11eb_9f87_0242ac1c0002row1_col5,#T_fbf3292e_3b27_11eb_9f87_0242ac1c0002row2_col1,#T_fbf3292e_3b27_11eb_9f87_0242ac1c0002row2_col3,#T_fbf3292e_3b27_11eb_9f87_0242ac1c0002row2_col4,#T_fbf3292e_3b27_11eb_9f87_0242ac1c0002row2_col5,#T_fbf3292e_3b27_11eb_9f87_0242ac1c0002row2_col6,#T_fbf3292e_3b27_11eb_9f87_0242ac1c0002row2_col7,#T_fbf3292e_3b27_11eb_9f87_0242ac1c0002row2_col8,#T_fbf3292e_3b27_11eb_9f87_0242ac1c0002row3_col1,#T_fbf3292e_3b27_11eb_9f87_0242ac1c0002row3_col2,#T_fbf3292e_3b27_11eb_9f87_0242ac1c0002row3_col3,#T_fbf3292e_3b27_11eb_9f87_0242ac1c0002row3_col5,#T_fbf3292e_3b27_11eb_9f87_0242ac1c0002row3_col7,#T_fbf3292e_3b27_11eb_9f87_0242ac1c0002row3_col8,#T_fbf3292e_3b27_11eb_9f87_0242ac1c0002row4_col0,#T_fbf3292e_3b27_11eb_9f87_0242ac1c0002row4_col1,#T_fbf3292e_3b27_11eb_9f87_0242ac1c0002row4_col5,#T_fbf3292e_3b27_11eb_9f87_0242ac1c0002row4_col7,#T_fbf3292e_3b27_11eb_9f87_0242ac1c0002row5_col1,#T_fbf3292e_3b27_11eb_9f87_0242ac1c0002row5_col2,#T_fbf3292e_3b27_11eb_9f87_0242ac1c0002row5_col3,#T_fbf3292e_3b27_11eb_9f87_0242ac1c0002row5_col4,#T_fbf3292e_3b27_11eb_9f87_0242ac1c0002row5_col5,#T_fbf3292e_3b27_11eb_9f87_0242ac1c0002row5_col6,#T_fbf3292e_3b27_11eb_9f87_0242ac1c0002row5_col7,#T_fbf3292e_3b27_11eb_9f87_0242ac1c0002row5_col8,#T_fbf3292e_3b27_11eb_9f87_0242ac1c0002row6_col1,#T_fbf3292e_3b27_11eb_9f87_0242ac1c0002row6_col5,#T_fbf3292e_3b27_11eb_9f87_0242ac1c0002row6_col8,#T_fbf3292e_3b27_11eb_9f87_0242ac1c0002row7_col1,#T_fbf3292e_3b27_11eb_9f87_0242ac1c0002row7_col2,#T_fbf3292e_3b27_11eb_9f87_0242ac1c0002row7_col3,#T_fbf3292e_3b27_11eb_9f87_0242ac1c0002row7_col4,#T_fbf3292e_3b27_11eb_9f87_0242ac1c0002row7_col5{\n",
              "            color:  black;\n",
              "        }#T_fbf3292e_3b27_11eb_9f87_0242ac1c0002row1_col6,#T_fbf3292e_3b27_11eb_9f87_0242ac1c0002row2_col2,#T_fbf3292e_3b27_11eb_9f87_0242ac1c0002row4_col3,#T_fbf3292e_3b27_11eb_9f87_0242ac1c0002row4_col4,#T_fbf3292e_3b27_11eb_9f87_0242ac1c0002row4_col6,#T_fbf3292e_3b27_11eb_9f87_0242ac1c0002row6_col2,#T_fbf3292e_3b27_11eb_9f87_0242ac1c0002row6_col7,#T_fbf3292e_3b27_11eb_9f87_0242ac1c0002row7_col6{\n",
              "            color:  red;\n",
              "        }#T_fbf3292e_3b27_11eb_9f87_0242ac1c0002row1_col8,#T_fbf3292e_3b27_11eb_9f87_0242ac1c0002row4_col8,#T_fbf3292e_3b27_11eb_9f87_0242ac1c0002row7_col8{\n",
              "            color:  blue;\n",
              "        }</style><table id=\"T_fbf3292e_3b27_11eb_9f87_0242ac1c0002\" ><thead>    <tr>        <th class=\"blank level0\" ></th>        <th class=\"col_heading level0 col0\" >0</th>        <th class=\"col_heading level0 col1\" >1</th>        <th class=\"col_heading level0 col2\" >2</th>        <th class=\"col_heading level0 col3\" >3</th>        <th class=\"col_heading level0 col4\" >4</th>        <th class=\"col_heading level0 col5\" >5</th>        <th class=\"col_heading level0 col6\" >6</th>        <th class=\"col_heading level0 col7\" >7</th>        <th class=\"col_heading level0 col8\" >8</th>    </tr></thead><tbody>\n",
              "                <tr>\n",
              "                        <th id=\"T_fbf3292e_3b27_11eb_9f87_0242ac1c0002level0_row0\" class=\"row_heading level0 row0\" >0</th>\n",
              "                        <td id=\"T_fbf3292e_3b27_11eb_9f87_0242ac1c0002row0_col0\" class=\"data row0 col0\" >Wall</td>\n",
              "                        <td id=\"T_fbf3292e_3b27_11eb_9f87_0242ac1c0002row0_col1\" class=\"data row0 col1\" >Wall</td>\n",
              "                        <td id=\"T_fbf3292e_3b27_11eb_9f87_0242ac1c0002row0_col2\" class=\"data row0 col2\" >Wall</td>\n",
              "                        <td id=\"T_fbf3292e_3b27_11eb_9f87_0242ac1c0002row0_col3\" class=\"data row0 col3\" >Wall</td>\n",
              "                        <td id=\"T_fbf3292e_3b27_11eb_9f87_0242ac1c0002row0_col4\" class=\"data row0 col4\" >Wall</td>\n",
              "                        <td id=\"T_fbf3292e_3b27_11eb_9f87_0242ac1c0002row0_col5\" class=\"data row0 col5\" >Wall</td>\n",
              "                        <td id=\"T_fbf3292e_3b27_11eb_9f87_0242ac1c0002row0_col6\" class=\"data row0 col6\" >Wall</td>\n",
              "                        <td id=\"T_fbf3292e_3b27_11eb_9f87_0242ac1c0002row0_col7\" class=\"data row0 col7\" >Wall</td>\n",
              "                        <td id=\"T_fbf3292e_3b27_11eb_9f87_0242ac1c0002row0_col8\" class=\"data row0 col8\" >Wall</td>\n",
              "            </tr>\n",
              "            <tr>\n",
              "                        <th id=\"T_fbf3292e_3b27_11eb_9f87_0242ac1c0002level0_row1\" class=\"row_heading level0 row1\" >1</th>\n",
              "                        <td id=\"T_fbf3292e_3b27_11eb_9f87_0242ac1c0002row1_col0\" class=\"data row1 col0\" >Wall</td>\n",
              "                        <td id=\"T_fbf3292e_3b27_11eb_9f87_0242ac1c0002row1_col1\" class=\"data row1 col1\" >→</td>\n",
              "                        <td id=\"T_fbf3292e_3b27_11eb_9f87_0242ac1c0002row1_col2\" class=\"data row1 col2\" >→</td>\n",
              "                        <td id=\"T_fbf3292e_3b27_11eb_9f87_0242ac1c0002row1_col3\" class=\"data row1 col3\" >→</td>\n",
              "                        <td id=\"T_fbf3292e_3b27_11eb_9f87_0242ac1c0002row1_col4\" class=\"data row1 col4\" >↓</td>\n",
              "                        <td id=\"T_fbf3292e_3b27_11eb_9f87_0242ac1c0002row1_col5\" class=\"data row1 col5\" >↓</td>\n",
              "                        <td id=\"T_fbf3292e_3b27_11eb_9f87_0242ac1c0002row1_col6\" class=\"data row1 col6\" >Dragon</td>\n",
              "                        <td id=\"T_fbf3292e_3b27_11eb_9f87_0242ac1c0002row1_col7\" class=\"data row1 col7\" >Wall</td>\n",
              "                        <td id=\"T_fbf3292e_3b27_11eb_9f87_0242ac1c0002row1_col8\" class=\"data row1 col8\" >Exit</td>\n",
              "            </tr>\n",
              "            <tr>\n",
              "                        <th id=\"T_fbf3292e_3b27_11eb_9f87_0242ac1c0002level0_row2\" class=\"row_heading level0 row2\" >2</th>\n",
              "                        <td id=\"T_fbf3292e_3b27_11eb_9f87_0242ac1c0002row2_col0\" class=\"data row2 col0\" >Wall</td>\n",
              "                        <td id=\"T_fbf3292e_3b27_11eb_9f87_0242ac1c0002row2_col1\" class=\"data row2 col1\" >↑</td>\n",
              "                        <td id=\"T_fbf3292e_3b27_11eb_9f87_0242ac1c0002row2_col2\" class=\"data row2 col2\" >Dragon</td>\n",
              "                        <td id=\"T_fbf3292e_3b27_11eb_9f87_0242ac1c0002row2_col3\" class=\"data row2 col3\" >→</td>\n",
              "                        <td id=\"T_fbf3292e_3b27_11eb_9f87_0242ac1c0002row2_col4\" class=\"data row2 col4\" >→</td>\n",
              "                        <td id=\"T_fbf3292e_3b27_11eb_9f87_0242ac1c0002row2_col5\" class=\"data row2 col5\" >→</td>\n",
              "                        <td id=\"T_fbf3292e_3b27_11eb_9f87_0242ac1c0002row2_col6\" class=\"data row2 col6\" >→</td>\n",
              "                        <td id=\"T_fbf3292e_3b27_11eb_9f87_0242ac1c0002row2_col7\" class=\"data row2 col7\" >→</td>\n",
              "                        <td id=\"T_fbf3292e_3b27_11eb_9f87_0242ac1c0002row2_col8\" class=\"data row2 col8\" >↑</td>\n",
              "            </tr>\n",
              "            <tr>\n",
              "                        <th id=\"T_fbf3292e_3b27_11eb_9f87_0242ac1c0002level0_row3\" class=\"row_heading level0 row3\" >3</th>\n",
              "                        <td id=\"T_fbf3292e_3b27_11eb_9f87_0242ac1c0002row3_col0\" class=\"data row3 col0\" >Wall</td>\n",
              "                        <td id=\"T_fbf3292e_3b27_11eb_9f87_0242ac1c0002row3_col1\" class=\"data row3 col1\" >↑</td>\n",
              "                        <td id=\"T_fbf3292e_3b27_11eb_9f87_0242ac1c0002row3_col2\" class=\"data row3 col2\" >→</td>\n",
              "                        <td id=\"T_fbf3292e_3b27_11eb_9f87_0242ac1c0002row3_col3\" class=\"data row3 col3\" >↑</td>\n",
              "                        <td id=\"T_fbf3292e_3b27_11eb_9f87_0242ac1c0002row3_col4\" class=\"data row3 col4\" >Wall</td>\n",
              "                        <td id=\"T_fbf3292e_3b27_11eb_9f87_0242ac1c0002row3_col5\" class=\"data row3 col5\" >↑</td>\n",
              "                        <td id=\"T_fbf3292e_3b27_11eb_9f87_0242ac1c0002row3_col6\" class=\"data row3 col6\" >Wall</td>\n",
              "                        <td id=\"T_fbf3292e_3b27_11eb_9f87_0242ac1c0002row3_col7\" class=\"data row3 col7\" >→</td>\n",
              "                        <td id=\"T_fbf3292e_3b27_11eb_9f87_0242ac1c0002row3_col8\" class=\"data row3 col8\" >↓</td>\n",
              "            </tr>\n",
              "            <tr>\n",
              "                        <th id=\"T_fbf3292e_3b27_11eb_9f87_0242ac1c0002level0_row4\" class=\"row_heading level0 row4\" >4</th>\n",
              "                        <td id=\"T_fbf3292e_3b27_11eb_9f87_0242ac1c0002row4_col0\" class=\"data row4 col0\" >→</td>\n",
              "                        <td id=\"T_fbf3292e_3b27_11eb_9f87_0242ac1c0002row4_col1\" class=\"data row4 col1\" >↑</td>\n",
              "                        <td id=\"T_fbf3292e_3b27_11eb_9f87_0242ac1c0002row4_col2\" class=\"data row4 col2\" >Wall</td>\n",
              "                        <td id=\"T_fbf3292e_3b27_11eb_9f87_0242ac1c0002row4_col3\" class=\"data row4 col3\" >Dragon</td>\n",
              "                        <td id=\"T_fbf3292e_3b27_11eb_9f87_0242ac1c0002row4_col4\" class=\"data row4 col4\" >Dragon</td>\n",
              "                        <td id=\"T_fbf3292e_3b27_11eb_9f87_0242ac1c0002row4_col5\" class=\"data row4 col5\" >↑</td>\n",
              "                        <td id=\"T_fbf3292e_3b27_11eb_9f87_0242ac1c0002row4_col6\" class=\"data row4 col6\" >Dragon</td>\n",
              "                        <td id=\"T_fbf3292e_3b27_11eb_9f87_0242ac1c0002row4_col7\" class=\"data row4 col7\" >→</td>\n",
              "                        <td id=\"T_fbf3292e_3b27_11eb_9f87_0242ac1c0002row4_col8\" class=\"data row4 col8\" >Exit</td>\n",
              "            </tr>\n",
              "            <tr>\n",
              "                        <th id=\"T_fbf3292e_3b27_11eb_9f87_0242ac1c0002level0_row5\" class=\"row_heading level0 row5\" >5</th>\n",
              "                        <td id=\"T_fbf3292e_3b27_11eb_9f87_0242ac1c0002row5_col0\" class=\"data row5 col0\" >Wall</td>\n",
              "                        <td id=\"T_fbf3292e_3b27_11eb_9f87_0242ac1c0002row5_col1\" class=\"data row5 col1\" >↑</td>\n",
              "                        <td id=\"T_fbf3292e_3b27_11eb_9f87_0242ac1c0002row5_col2\" class=\"data row5 col2\" >←</td>\n",
              "                        <td id=\"T_fbf3292e_3b27_11eb_9f87_0242ac1c0002row5_col3\" class=\"data row5 col3\" >→</td>\n",
              "                        <td id=\"T_fbf3292e_3b27_11eb_9f87_0242ac1c0002row5_col4\" class=\"data row5 col4\" >→</td>\n",
              "                        <td id=\"T_fbf3292e_3b27_11eb_9f87_0242ac1c0002row5_col5\" class=\"data row5 col5\" >→</td>\n",
              "                        <td id=\"T_fbf3292e_3b27_11eb_9f87_0242ac1c0002row5_col6\" class=\"data row5 col6\" >→</td>\n",
              "                        <td id=\"T_fbf3292e_3b27_11eb_9f87_0242ac1c0002row5_col7\" class=\"data row5 col7\" >→</td>\n",
              "                        <td id=\"T_fbf3292e_3b27_11eb_9f87_0242ac1c0002row5_col8\" class=\"data row5 col8\" >↑</td>\n",
              "            </tr>\n",
              "            <tr>\n",
              "                        <th id=\"T_fbf3292e_3b27_11eb_9f87_0242ac1c0002level0_row6\" class=\"row_heading level0 row6\" >6</th>\n",
              "                        <td id=\"T_fbf3292e_3b27_11eb_9f87_0242ac1c0002row6_col0\" class=\"data row6 col0\" >Wall</td>\n",
              "                        <td id=\"T_fbf3292e_3b27_11eb_9f87_0242ac1c0002row6_col1\" class=\"data row6 col1\" >↑</td>\n",
              "                        <td id=\"T_fbf3292e_3b27_11eb_9f87_0242ac1c0002row6_col2\" class=\"data row6 col2\" >Dragon</td>\n",
              "                        <td id=\"T_fbf3292e_3b27_11eb_9f87_0242ac1c0002row6_col3\" class=\"data row6 col3\" >Wall</td>\n",
              "                        <td id=\"T_fbf3292e_3b27_11eb_9f87_0242ac1c0002row6_col4\" class=\"data row6 col4\" >Wall</td>\n",
              "                        <td id=\"T_fbf3292e_3b27_11eb_9f87_0242ac1c0002row6_col5\" class=\"data row6 col5\" >↑</td>\n",
              "                        <td id=\"T_fbf3292e_3b27_11eb_9f87_0242ac1c0002row6_col6\" class=\"data row6 col6\" >Wall</td>\n",
              "                        <td id=\"T_fbf3292e_3b27_11eb_9f87_0242ac1c0002row6_col7\" class=\"data row6 col7\" >Dragon</td>\n",
              "                        <td id=\"T_fbf3292e_3b27_11eb_9f87_0242ac1c0002row6_col8\" class=\"data row6 col8\" >↓</td>\n",
              "            </tr>\n",
              "            <tr>\n",
              "                        <th id=\"T_fbf3292e_3b27_11eb_9f87_0242ac1c0002level0_row7\" class=\"row_heading level0 row7\" >7</th>\n",
              "                        <td id=\"T_fbf3292e_3b27_11eb_9f87_0242ac1c0002row7_col0\" class=\"data row7 col0\" >Wall</td>\n",
              "                        <td id=\"T_fbf3292e_3b27_11eb_9f87_0242ac1c0002row7_col1\" class=\"data row7 col1\" >→</td>\n",
              "                        <td id=\"T_fbf3292e_3b27_11eb_9f87_0242ac1c0002row7_col2\" class=\"data row7 col2\" >→</td>\n",
              "                        <td id=\"T_fbf3292e_3b27_11eb_9f87_0242ac1c0002row7_col3\" class=\"data row7 col3\" >→</td>\n",
              "                        <td id=\"T_fbf3292e_3b27_11eb_9f87_0242ac1c0002row7_col4\" class=\"data row7 col4\" >→</td>\n",
              "                        <td id=\"T_fbf3292e_3b27_11eb_9f87_0242ac1c0002row7_col5\" class=\"data row7 col5\" >↑</td>\n",
              "                        <td id=\"T_fbf3292e_3b27_11eb_9f87_0242ac1c0002row7_col6\" class=\"data row7 col6\" >Dragon</td>\n",
              "                        <td id=\"T_fbf3292e_3b27_11eb_9f87_0242ac1c0002row7_col7\" class=\"data row7 col7\" >Wall</td>\n",
              "                        <td id=\"T_fbf3292e_3b27_11eb_9f87_0242ac1c0002row7_col8\" class=\"data row7 col8\" >Exit</td>\n",
              "            </tr>\n",
              "            <tr>\n",
              "                        <th id=\"T_fbf3292e_3b27_11eb_9f87_0242ac1c0002level0_row8\" class=\"row_heading level0 row8\" >8</th>\n",
              "                        <td id=\"T_fbf3292e_3b27_11eb_9f87_0242ac1c0002row8_col0\" class=\"data row8 col0\" >Wall</td>\n",
              "                        <td id=\"T_fbf3292e_3b27_11eb_9f87_0242ac1c0002row8_col1\" class=\"data row8 col1\" >Wall</td>\n",
              "                        <td id=\"T_fbf3292e_3b27_11eb_9f87_0242ac1c0002row8_col2\" class=\"data row8 col2\" >Wall</td>\n",
              "                        <td id=\"T_fbf3292e_3b27_11eb_9f87_0242ac1c0002row8_col3\" class=\"data row8 col3\" >Wall</td>\n",
              "                        <td id=\"T_fbf3292e_3b27_11eb_9f87_0242ac1c0002row8_col4\" class=\"data row8 col4\" >Wall</td>\n",
              "                        <td id=\"T_fbf3292e_3b27_11eb_9f87_0242ac1c0002row8_col5\" class=\"data row8 col5\" >Wall</td>\n",
              "                        <td id=\"T_fbf3292e_3b27_11eb_9f87_0242ac1c0002row8_col6\" class=\"data row8 col6\" >Wall</td>\n",
              "                        <td id=\"T_fbf3292e_3b27_11eb_9f87_0242ac1c0002row8_col7\" class=\"data row8 col7\" >Wall</td>\n",
              "                        <td id=\"T_fbf3292e_3b27_11eb_9f87_0242ac1c0002row8_col8\" class=\"data row8 col8\" >Wall</td>\n",
              "            </tr>\n",
              "    </tbody></table>"
            ],
            "text/plain": [
              "<pandas.io.formats.style.Styler at 0x7fc332e7ee48>"
            ]
          },
          "metadata": {
            "tags": []
          },
          "execution_count": 14
        }
      ]
    },
    {
      "cell_type": "markdown",
      "metadata": {
        "id": "KfCW8cONJgCC"
      },
      "source": [
        "## Value Iteration"
      ]
    },
    {
      "cell_type": "code",
      "metadata": {
        "id": "2Z5o0ifXJnj7"
      },
      "source": [
        "def value_iteration():\n",
        "\n",
        "    V_old = np.ones(n_states)\n",
        "    V_new = np.zeros(n_states)\n",
        "    iterations = 0\n",
        "    while (sum(V_old == V_new) != n_states):\n",
        "        V_old = np.copy(V_new)\n",
        "        for s in range(n_states):\n",
        "            vals = []\n",
        "            for a in range(len(actions)):\n",
        "                vals.append(R_s[s] + gamma * np.sum(np.multiply(trns_mx[a][s, :], V_old)))\n",
        "            V_new[s] = np.max(vals)\n",
        "        iterations += 1\n",
        "\n",
        "\n",
        "\n",
        "    print(\"%d iterations\" % iterations)\n",
        "\n",
        "    pi_star = np.zeros(n_states)\n",
        "    for s in range(n_states):\n",
        "        vals = []\n",
        "        for a in range(len(actions)):\n",
        "            vals.append(np.sum(np.multiply(trns_mx[a][s, :], V_new)))\n",
        "        pi_star[s] = np.argmax(vals)\n",
        "    return pi_star, V_new"
      ],
      "execution_count": null,
      "outputs": []
    },
    {
      "cell_type": "code",
      "metadata": {
        "colab": {
          "base_uri": "https://localhost:8080/"
        },
        "id": "sTv1CtlJOhKs",
        "outputId": "f90b9cd3-8982-4a82-f216-d03af43b31b7"
      },
      "source": [
        "pi_opt, V_opt = value_iteration()"
      ],
      "execution_count": null,
      "outputs": [
        {
          "output_type": "stream",
          "text": [
            "3253 iterations\n"
          ],
          "name": "stdout"
        }
      ]
    },
    {
      "cell_type": "code",
      "metadata": {
        "colab": {
          "base_uri": "https://localhost:8080/"
        },
        "id": "HwcSIEx9YHhJ",
        "outputId": "6f36c582-3564-4720-ca42-d66dc420f444"
      },
      "source": [
        "# Check that V's from policy iteration/value iteration match.\n",
        "assert(np.sum(np.isclose(V_star, V_opt)) == 81)\n",
        "print(\"✓\")"
      ],
      "execution_count": null,
      "outputs": [
        {
          "output_type": "stream",
          "text": [
            "✓\n"
          ],
          "name": "stdout"
        }
      ]
    },
    {
      "cell_type": "code",
      "metadata": {
        "colab": {
          "base_uri": "https://localhost:8080/"
        },
        "id": "FtGN-_nKWlUe",
        "outputId": "6a57d48f-1d74-4f35-c09c-50c1e848090c"
      },
      "source": [
        "pi_opt"
      ],
      "execution_count": null,
      "outputs": [
        {
          "output_type": "execute_result",
          "data": {
            "text/plain": [
              "array([0., 0., 0., 0., 2., 0., 0., 0., 0., 0., 2., 1., 1., 1., 1., 1., 2.,\n",
              "       0., 0., 2., 0., 2., 0., 0., 0., 2., 0., 0., 2., 2., 1., 0., 2., 0.,\n",
              "       2., 0., 0., 3., 2., 0., 0., 2., 0., 2., 0., 0., 3., 2., 1., 1., 2.,\n",
              "       1., 1., 0., 0., 0., 2., 0., 0., 2., 0., 0., 0., 0., 0., 2., 2., 2.,\n",
              "       2., 0., 0., 0., 0., 0., 1., 3., 0., 1., 3., 0., 0.])"
            ]
          },
          "metadata": {
            "tags": []
          },
          "execution_count": 18
        }
      ]
    },
    {
      "cell_type": "code",
      "metadata": {
        "colab": {
          "base_uri": "https://localhost:8080/",
          "height": 317
        },
        "id": "Ue3XGq7dP5-d",
        "outputId": "b7fba1c3-0513-4604-cbad-ac54e11c085f"
      },
      "source": [
        "\n",
        "print_arr = np.flipud(np.rot90(V_opt.reshape((9, 9))))\n",
        "print_list = []\n",
        "for i in range(9):\n",
        "    print_row = []\n",
        "    for j in range(9):\n",
        "        val = print_arr[i, j]\n",
        "        if val == 0.0:\n",
        "            print_row.append('Wall')\n",
        "        elif val < 0:\n",
        "            print_row.append('Dragon')\n",
        "        elif val >= 99.99:\n",
        "            print_row.append('Exit')\n",
        "        else:\n",
        "            print_row.append(\"%0.4f\" % val)\n",
        "    print_list.append(print_row)\n",
        "\n",
        "df = pd.DataFrame(print_arr)\n",
        "df"
      ],
      "execution_count": null,
      "outputs": [
        {
          "output_type": "execute_result",
          "data": {
            "text/html": [
              "<div>\n",
              "<style scoped>\n",
              "    .dataframe tbody tr th:only-of-type {\n",
              "        vertical-align: middle;\n",
              "    }\n",
              "\n",
              "    .dataframe tbody tr th {\n",
              "        vertical-align: top;\n",
              "    }\n",
              "\n",
              "    .dataframe thead th {\n",
              "        text-align: right;\n",
              "    }\n",
              "</style>\n",
              "<table border=\"1\" class=\"dataframe\">\n",
              "  <thead>\n",
              "    <tr style=\"text-align: right;\">\n",
              "      <th></th>\n",
              "      <th>0</th>\n",
              "      <th>1</th>\n",
              "      <th>2</th>\n",
              "      <th>3</th>\n",
              "      <th>4</th>\n",
              "      <th>5</th>\n",
              "      <th>6</th>\n",
              "      <th>7</th>\n",
              "      <th>8</th>\n",
              "    </tr>\n",
              "  </thead>\n",
              "  <tbody>\n",
              "    <tr>\n",
              "      <th>0</th>\n",
              "      <td>0.00</td>\n",
              "      <td>0.000</td>\n",
              "      <td>0.000</td>\n",
              "      <td>0.000</td>\n",
              "      <td>0.000</td>\n",
              "      <td>0.000</td>\n",
              "      <td>0.000</td>\n",
              "      <td>0.000</td>\n",
              "      <td>0.000</td>\n",
              "    </tr>\n",
              "    <tr>\n",
              "      <th>1</th>\n",
              "      <td>0.00</td>\n",
              "      <td>65.773</td>\n",
              "      <td>67.136</td>\n",
              "      <td>77.846</td>\n",
              "      <td>79.845</td>\n",
              "      <td>72.475</td>\n",
              "      <td>-100.000</td>\n",
              "      <td>0.000</td>\n",
              "      <td>100.000</td>\n",
              "    </tr>\n",
              "    <tr>\n",
              "      <th>2</th>\n",
              "      <td>0.00</td>\n",
              "      <td>55.883</td>\n",
              "      <td>-100.000</td>\n",
              "      <td>70.308</td>\n",
              "      <td>81.344</td>\n",
              "      <td>83.048</td>\n",
              "      <td>84.881</td>\n",
              "      <td>96.872</td>\n",
              "      <td>98.719</td>\n",
              "    </tr>\n",
              "    <tr>\n",
              "      <th>3</th>\n",
              "      <td>0.00</td>\n",
              "      <td>54.923</td>\n",
              "      <td>50.477</td>\n",
              "      <td>59.666</td>\n",
              "      <td>0.000</td>\n",
              "      <td>80.958</td>\n",
              "      <td>0.000</td>\n",
              "      <td>97.045</td>\n",
              "      <td>98.727</td>\n",
              "    </tr>\n",
              "    <tr>\n",
              "      <th>4</th>\n",
              "      <td>53.51</td>\n",
              "      <td>54.146</td>\n",
              "      <td>0.000</td>\n",
              "      <td>-100.000</td>\n",
              "      <td>-100.000</td>\n",
              "      <td>61.780</td>\n",
              "      <td>-100.000</td>\n",
              "      <td>88.220</td>\n",
              "      <td>100.000</td>\n",
              "    </tr>\n",
              "    <tr>\n",
              "      <th>5</th>\n",
              "      <td>0.00</td>\n",
              "      <td>52.504</td>\n",
              "      <td>43.936</td>\n",
              "      <td>51.091</td>\n",
              "      <td>61.007</td>\n",
              "      <td>71.786</td>\n",
              "      <td>73.947</td>\n",
              "      <td>85.185</td>\n",
              "      <td>97.573</td>\n",
              "    </tr>\n",
              "    <tr>\n",
              "      <th>6</th>\n",
              "      <td>0.00</td>\n",
              "      <td>43.773</td>\n",
              "      <td>-100.000</td>\n",
              "      <td>0.000</td>\n",
              "      <td>0.000</td>\n",
              "      <td>70.351</td>\n",
              "      <td>0.000</td>\n",
              "      <td>-100.000</td>\n",
              "      <td>88.406</td>\n",
              "    </tr>\n",
              "    <tr>\n",
              "      <th>7</th>\n",
              "      <td>0.00</td>\n",
              "      <td>47.953</td>\n",
              "      <td>48.769</td>\n",
              "      <td>58.147</td>\n",
              "      <td>59.390</td>\n",
              "      <td>60.169</td>\n",
              "      <td>-100.000</td>\n",
              "      <td>0.000</td>\n",
              "      <td>100.000</td>\n",
              "    </tr>\n",
              "    <tr>\n",
              "      <th>8</th>\n",
              "      <td>0.00</td>\n",
              "      <td>0.000</td>\n",
              "      <td>0.000</td>\n",
              "      <td>0.000</td>\n",
              "      <td>0.000</td>\n",
              "      <td>0.000</td>\n",
              "      <td>0.000</td>\n",
              "      <td>0.000</td>\n",
              "      <td>0.000</td>\n",
              "    </tr>\n",
              "  </tbody>\n",
              "</table>\n",
              "</div>"
            ],
            "text/plain": [
              "       0       1        2        3        4       5        6        7        8\n",
              "0   0.00   0.000    0.000    0.000    0.000   0.000    0.000    0.000    0.000\n",
              "1   0.00  65.773   67.136   77.846   79.845  72.475 -100.000    0.000  100.000\n",
              "2   0.00  55.883 -100.000   70.308   81.344  83.048   84.881   96.872   98.719\n",
              "3   0.00  54.923   50.477   59.666    0.000  80.958    0.000   97.045   98.727\n",
              "4  53.51  54.146    0.000 -100.000 -100.000  61.780 -100.000   88.220  100.000\n",
              "5   0.00  52.504   43.936   51.091   61.007  71.786   73.947   85.185   97.573\n",
              "6   0.00  43.773 -100.000    0.000    0.000  70.351    0.000 -100.000   88.406\n",
              "7   0.00  47.953   48.769   58.147   59.390  60.169 -100.000    0.000  100.000\n",
              "8   0.00   0.000    0.000    0.000    0.000   0.000    0.000    0.000    0.000"
            ]
          },
          "metadata": {
            "tags": []
          },
          "execution_count": 19
        }
      ]
    },
    {
      "cell_type": "code",
      "metadata": {
        "colab": {
          "base_uri": "https://localhost:8080/",
          "height": 218
        },
        "id": "5umtsV1dV2Js",
        "outputId": "f6d059f7-dbfa-4e73-cd9d-53c512fbd6e1"
      },
      "source": [
        "df = pd.DataFrame(print_list)\n",
        "s = df.style.applymap(color_map)\n",
        "s"
      ],
      "execution_count": null,
      "outputs": [
        {
          "output_type": "execute_result",
          "data": {
            "text/html": [
              "<style  type=\"text/css\" >\n",
              "#T_03a3d5d8_3b28_11eb_9f87_0242ac1c0002row0_col0,#T_03a3d5d8_3b28_11eb_9f87_0242ac1c0002row0_col1,#T_03a3d5d8_3b28_11eb_9f87_0242ac1c0002row0_col2,#T_03a3d5d8_3b28_11eb_9f87_0242ac1c0002row0_col3,#T_03a3d5d8_3b28_11eb_9f87_0242ac1c0002row0_col4,#T_03a3d5d8_3b28_11eb_9f87_0242ac1c0002row0_col5,#T_03a3d5d8_3b28_11eb_9f87_0242ac1c0002row0_col6,#T_03a3d5d8_3b28_11eb_9f87_0242ac1c0002row0_col7,#T_03a3d5d8_3b28_11eb_9f87_0242ac1c0002row0_col8,#T_03a3d5d8_3b28_11eb_9f87_0242ac1c0002row1_col0,#T_03a3d5d8_3b28_11eb_9f87_0242ac1c0002row1_col7,#T_03a3d5d8_3b28_11eb_9f87_0242ac1c0002row2_col0,#T_03a3d5d8_3b28_11eb_9f87_0242ac1c0002row3_col0,#T_03a3d5d8_3b28_11eb_9f87_0242ac1c0002row3_col4,#T_03a3d5d8_3b28_11eb_9f87_0242ac1c0002row3_col6,#T_03a3d5d8_3b28_11eb_9f87_0242ac1c0002row4_col2,#T_03a3d5d8_3b28_11eb_9f87_0242ac1c0002row5_col0,#T_03a3d5d8_3b28_11eb_9f87_0242ac1c0002row6_col0,#T_03a3d5d8_3b28_11eb_9f87_0242ac1c0002row6_col3,#T_03a3d5d8_3b28_11eb_9f87_0242ac1c0002row6_col4,#T_03a3d5d8_3b28_11eb_9f87_0242ac1c0002row6_col6,#T_03a3d5d8_3b28_11eb_9f87_0242ac1c0002row7_col0,#T_03a3d5d8_3b28_11eb_9f87_0242ac1c0002row7_col7,#T_03a3d5d8_3b28_11eb_9f87_0242ac1c0002row8_col0,#T_03a3d5d8_3b28_11eb_9f87_0242ac1c0002row8_col1,#T_03a3d5d8_3b28_11eb_9f87_0242ac1c0002row8_col2,#T_03a3d5d8_3b28_11eb_9f87_0242ac1c0002row8_col3,#T_03a3d5d8_3b28_11eb_9f87_0242ac1c0002row8_col4,#T_03a3d5d8_3b28_11eb_9f87_0242ac1c0002row8_col5,#T_03a3d5d8_3b28_11eb_9f87_0242ac1c0002row8_col6,#T_03a3d5d8_3b28_11eb_9f87_0242ac1c0002row8_col7,#T_03a3d5d8_3b28_11eb_9f87_0242ac1c0002row8_col8{\n",
              "            color:  gray;\n",
              "        }#T_03a3d5d8_3b28_11eb_9f87_0242ac1c0002row1_col1,#T_03a3d5d8_3b28_11eb_9f87_0242ac1c0002row1_col2,#T_03a3d5d8_3b28_11eb_9f87_0242ac1c0002row1_col3,#T_03a3d5d8_3b28_11eb_9f87_0242ac1c0002row1_col4,#T_03a3d5d8_3b28_11eb_9f87_0242ac1c0002row1_col5,#T_03a3d5d8_3b28_11eb_9f87_0242ac1c0002row2_col1,#T_03a3d5d8_3b28_11eb_9f87_0242ac1c0002row2_col3,#T_03a3d5d8_3b28_11eb_9f87_0242ac1c0002row2_col4,#T_03a3d5d8_3b28_11eb_9f87_0242ac1c0002row2_col5,#T_03a3d5d8_3b28_11eb_9f87_0242ac1c0002row2_col6,#T_03a3d5d8_3b28_11eb_9f87_0242ac1c0002row2_col7,#T_03a3d5d8_3b28_11eb_9f87_0242ac1c0002row2_col8,#T_03a3d5d8_3b28_11eb_9f87_0242ac1c0002row3_col1,#T_03a3d5d8_3b28_11eb_9f87_0242ac1c0002row3_col2,#T_03a3d5d8_3b28_11eb_9f87_0242ac1c0002row3_col3,#T_03a3d5d8_3b28_11eb_9f87_0242ac1c0002row3_col5,#T_03a3d5d8_3b28_11eb_9f87_0242ac1c0002row3_col7,#T_03a3d5d8_3b28_11eb_9f87_0242ac1c0002row3_col8,#T_03a3d5d8_3b28_11eb_9f87_0242ac1c0002row4_col0,#T_03a3d5d8_3b28_11eb_9f87_0242ac1c0002row4_col1,#T_03a3d5d8_3b28_11eb_9f87_0242ac1c0002row4_col5,#T_03a3d5d8_3b28_11eb_9f87_0242ac1c0002row4_col7,#T_03a3d5d8_3b28_11eb_9f87_0242ac1c0002row5_col1,#T_03a3d5d8_3b28_11eb_9f87_0242ac1c0002row5_col2,#T_03a3d5d8_3b28_11eb_9f87_0242ac1c0002row5_col3,#T_03a3d5d8_3b28_11eb_9f87_0242ac1c0002row5_col4,#T_03a3d5d8_3b28_11eb_9f87_0242ac1c0002row5_col5,#T_03a3d5d8_3b28_11eb_9f87_0242ac1c0002row5_col6,#T_03a3d5d8_3b28_11eb_9f87_0242ac1c0002row5_col7,#T_03a3d5d8_3b28_11eb_9f87_0242ac1c0002row5_col8,#T_03a3d5d8_3b28_11eb_9f87_0242ac1c0002row6_col1,#T_03a3d5d8_3b28_11eb_9f87_0242ac1c0002row6_col5,#T_03a3d5d8_3b28_11eb_9f87_0242ac1c0002row6_col8,#T_03a3d5d8_3b28_11eb_9f87_0242ac1c0002row7_col1,#T_03a3d5d8_3b28_11eb_9f87_0242ac1c0002row7_col2,#T_03a3d5d8_3b28_11eb_9f87_0242ac1c0002row7_col3,#T_03a3d5d8_3b28_11eb_9f87_0242ac1c0002row7_col4,#T_03a3d5d8_3b28_11eb_9f87_0242ac1c0002row7_col5{\n",
              "            color:  black;\n",
              "        }#T_03a3d5d8_3b28_11eb_9f87_0242ac1c0002row1_col6,#T_03a3d5d8_3b28_11eb_9f87_0242ac1c0002row2_col2,#T_03a3d5d8_3b28_11eb_9f87_0242ac1c0002row4_col3,#T_03a3d5d8_3b28_11eb_9f87_0242ac1c0002row4_col4,#T_03a3d5d8_3b28_11eb_9f87_0242ac1c0002row4_col6,#T_03a3d5d8_3b28_11eb_9f87_0242ac1c0002row6_col2,#T_03a3d5d8_3b28_11eb_9f87_0242ac1c0002row6_col7,#T_03a3d5d8_3b28_11eb_9f87_0242ac1c0002row7_col6{\n",
              "            color:  red;\n",
              "        }#T_03a3d5d8_3b28_11eb_9f87_0242ac1c0002row1_col8,#T_03a3d5d8_3b28_11eb_9f87_0242ac1c0002row4_col8,#T_03a3d5d8_3b28_11eb_9f87_0242ac1c0002row7_col8{\n",
              "            color:  blue;\n",
              "        }</style><table id=\"T_03a3d5d8_3b28_11eb_9f87_0242ac1c0002\" ><thead>    <tr>        <th class=\"blank level0\" ></th>        <th class=\"col_heading level0 col0\" >0</th>        <th class=\"col_heading level0 col1\" >1</th>        <th class=\"col_heading level0 col2\" >2</th>        <th class=\"col_heading level0 col3\" >3</th>        <th class=\"col_heading level0 col4\" >4</th>        <th class=\"col_heading level0 col5\" >5</th>        <th class=\"col_heading level0 col6\" >6</th>        <th class=\"col_heading level0 col7\" >7</th>        <th class=\"col_heading level0 col8\" >8</th>    </tr></thead><tbody>\n",
              "                <tr>\n",
              "                        <th id=\"T_03a3d5d8_3b28_11eb_9f87_0242ac1c0002level0_row0\" class=\"row_heading level0 row0\" >0</th>\n",
              "                        <td id=\"T_03a3d5d8_3b28_11eb_9f87_0242ac1c0002row0_col0\" class=\"data row0 col0\" >Wall</td>\n",
              "                        <td id=\"T_03a3d5d8_3b28_11eb_9f87_0242ac1c0002row0_col1\" class=\"data row0 col1\" >Wall</td>\n",
              "                        <td id=\"T_03a3d5d8_3b28_11eb_9f87_0242ac1c0002row0_col2\" class=\"data row0 col2\" >Wall</td>\n",
              "                        <td id=\"T_03a3d5d8_3b28_11eb_9f87_0242ac1c0002row0_col3\" class=\"data row0 col3\" >Wall</td>\n",
              "                        <td id=\"T_03a3d5d8_3b28_11eb_9f87_0242ac1c0002row0_col4\" class=\"data row0 col4\" >Wall</td>\n",
              "                        <td id=\"T_03a3d5d8_3b28_11eb_9f87_0242ac1c0002row0_col5\" class=\"data row0 col5\" >Wall</td>\n",
              "                        <td id=\"T_03a3d5d8_3b28_11eb_9f87_0242ac1c0002row0_col6\" class=\"data row0 col6\" >Wall</td>\n",
              "                        <td id=\"T_03a3d5d8_3b28_11eb_9f87_0242ac1c0002row0_col7\" class=\"data row0 col7\" >Wall</td>\n",
              "                        <td id=\"T_03a3d5d8_3b28_11eb_9f87_0242ac1c0002row0_col8\" class=\"data row0 col8\" >Wall</td>\n",
              "            </tr>\n",
              "            <tr>\n",
              "                        <th id=\"T_03a3d5d8_3b28_11eb_9f87_0242ac1c0002level0_row1\" class=\"row_heading level0 row1\" >1</th>\n",
              "                        <td id=\"T_03a3d5d8_3b28_11eb_9f87_0242ac1c0002row1_col0\" class=\"data row1 col0\" >Wall</td>\n",
              "                        <td id=\"T_03a3d5d8_3b28_11eb_9f87_0242ac1c0002row1_col1\" class=\"data row1 col1\" >65.7731</td>\n",
              "                        <td id=\"T_03a3d5d8_3b28_11eb_9f87_0242ac1c0002row1_col2\" class=\"data row1 col2\" >67.1365</td>\n",
              "                        <td id=\"T_03a3d5d8_3b28_11eb_9f87_0242ac1c0002row1_col3\" class=\"data row1 col3\" >77.8460</td>\n",
              "                        <td id=\"T_03a3d5d8_3b28_11eb_9f87_0242ac1c0002row1_col4\" class=\"data row1 col4\" >79.8445</td>\n",
              "                        <td id=\"T_03a3d5d8_3b28_11eb_9f87_0242ac1c0002row1_col5\" class=\"data row1 col5\" >72.4751</td>\n",
              "                        <td id=\"T_03a3d5d8_3b28_11eb_9f87_0242ac1c0002row1_col6\" class=\"data row1 col6\" >Dragon</td>\n",
              "                        <td id=\"T_03a3d5d8_3b28_11eb_9f87_0242ac1c0002row1_col7\" class=\"data row1 col7\" >Wall</td>\n",
              "                        <td id=\"T_03a3d5d8_3b28_11eb_9f87_0242ac1c0002row1_col8\" class=\"data row1 col8\" >Exit</td>\n",
              "            </tr>\n",
              "            <tr>\n",
              "                        <th id=\"T_03a3d5d8_3b28_11eb_9f87_0242ac1c0002level0_row2\" class=\"row_heading level0 row2\" >2</th>\n",
              "                        <td id=\"T_03a3d5d8_3b28_11eb_9f87_0242ac1c0002row2_col0\" class=\"data row2 col0\" >Wall</td>\n",
              "                        <td id=\"T_03a3d5d8_3b28_11eb_9f87_0242ac1c0002row2_col1\" class=\"data row2 col1\" >55.8829</td>\n",
              "                        <td id=\"T_03a3d5d8_3b28_11eb_9f87_0242ac1c0002row2_col2\" class=\"data row2 col2\" >Dragon</td>\n",
              "                        <td id=\"T_03a3d5d8_3b28_11eb_9f87_0242ac1c0002row2_col3\" class=\"data row2 col3\" >70.3082</td>\n",
              "                        <td id=\"T_03a3d5d8_3b28_11eb_9f87_0242ac1c0002row2_col4\" class=\"data row2 col4\" >81.3444</td>\n",
              "                        <td id=\"T_03a3d5d8_3b28_11eb_9f87_0242ac1c0002row2_col5\" class=\"data row2 col5\" >83.0485</td>\n",
              "                        <td id=\"T_03a3d5d8_3b28_11eb_9f87_0242ac1c0002row2_col6\" class=\"data row2 col6\" >84.8805</td>\n",
              "                        <td id=\"T_03a3d5d8_3b28_11eb_9f87_0242ac1c0002row2_col7\" class=\"data row2 col7\" >96.8723</td>\n",
              "                        <td id=\"T_03a3d5d8_3b28_11eb_9f87_0242ac1c0002row2_col8\" class=\"data row2 col8\" >98.7188</td>\n",
              "            </tr>\n",
              "            <tr>\n",
              "                        <th id=\"T_03a3d5d8_3b28_11eb_9f87_0242ac1c0002level0_row3\" class=\"row_heading level0 row3\" >3</th>\n",
              "                        <td id=\"T_03a3d5d8_3b28_11eb_9f87_0242ac1c0002row3_col0\" class=\"data row3 col0\" >Wall</td>\n",
              "                        <td id=\"T_03a3d5d8_3b28_11eb_9f87_0242ac1c0002row3_col1\" class=\"data row3 col1\" >54.9230</td>\n",
              "                        <td id=\"T_03a3d5d8_3b28_11eb_9f87_0242ac1c0002row3_col2\" class=\"data row3 col2\" >50.4766</td>\n",
              "                        <td id=\"T_03a3d5d8_3b28_11eb_9f87_0242ac1c0002row3_col3\" class=\"data row3 col3\" >59.6664</td>\n",
              "                        <td id=\"T_03a3d5d8_3b28_11eb_9f87_0242ac1c0002row3_col4\" class=\"data row3 col4\" >Wall</td>\n",
              "                        <td id=\"T_03a3d5d8_3b28_11eb_9f87_0242ac1c0002row3_col5\" class=\"data row3 col5\" >80.9583</td>\n",
              "                        <td id=\"T_03a3d5d8_3b28_11eb_9f87_0242ac1c0002row3_col6\" class=\"data row3 col6\" >Wall</td>\n",
              "                        <td id=\"T_03a3d5d8_3b28_11eb_9f87_0242ac1c0002row3_col7\" class=\"data row3 col7\" >97.0448</td>\n",
              "                        <td id=\"T_03a3d5d8_3b28_11eb_9f87_0242ac1c0002row3_col8\" class=\"data row3 col8\" >98.7273</td>\n",
              "            </tr>\n",
              "            <tr>\n",
              "                        <th id=\"T_03a3d5d8_3b28_11eb_9f87_0242ac1c0002level0_row4\" class=\"row_heading level0 row4\" >4</th>\n",
              "                        <td id=\"T_03a3d5d8_3b28_11eb_9f87_0242ac1c0002row4_col0\" class=\"data row4 col0\" >53.5097</td>\n",
              "                        <td id=\"T_03a3d5d8_3b28_11eb_9f87_0242ac1c0002row4_col1\" class=\"data row4 col1\" >54.1456</td>\n",
              "                        <td id=\"T_03a3d5d8_3b28_11eb_9f87_0242ac1c0002row4_col2\" class=\"data row4 col2\" >Wall</td>\n",
              "                        <td id=\"T_03a3d5d8_3b28_11eb_9f87_0242ac1c0002row4_col3\" class=\"data row4 col3\" >Dragon</td>\n",
              "                        <td id=\"T_03a3d5d8_3b28_11eb_9f87_0242ac1c0002row4_col4\" class=\"data row4 col4\" >Dragon</td>\n",
              "                        <td id=\"T_03a3d5d8_3b28_11eb_9f87_0242ac1c0002row4_col5\" class=\"data row4 col5\" >61.7798</td>\n",
              "                        <td id=\"T_03a3d5d8_3b28_11eb_9f87_0242ac1c0002row4_col6\" class=\"data row4 col6\" >Dragon</td>\n",
              "                        <td id=\"T_03a3d5d8_3b28_11eb_9f87_0242ac1c0002row4_col7\" class=\"data row4 col7\" >88.2204</td>\n",
              "                        <td id=\"T_03a3d5d8_3b28_11eb_9f87_0242ac1c0002row4_col8\" class=\"data row4 col8\" >Exit</td>\n",
              "            </tr>\n",
              "            <tr>\n",
              "                        <th id=\"T_03a3d5d8_3b28_11eb_9f87_0242ac1c0002level0_row5\" class=\"row_heading level0 row5\" >5</th>\n",
              "                        <td id=\"T_03a3d5d8_3b28_11eb_9f87_0242ac1c0002row5_col0\" class=\"data row5 col0\" >Wall</td>\n",
              "                        <td id=\"T_03a3d5d8_3b28_11eb_9f87_0242ac1c0002row5_col1\" class=\"data row5 col1\" >52.5040</td>\n",
              "                        <td id=\"T_03a3d5d8_3b28_11eb_9f87_0242ac1c0002row5_col2\" class=\"data row5 col2\" >43.9360</td>\n",
              "                        <td id=\"T_03a3d5d8_3b28_11eb_9f87_0242ac1c0002row5_col3\" class=\"data row5 col3\" >51.0914</td>\n",
              "                        <td id=\"T_03a3d5d8_3b28_11eb_9f87_0242ac1c0002row5_col4\" class=\"data row5 col4\" >61.0072</td>\n",
              "                        <td id=\"T_03a3d5d8_3b28_11eb_9f87_0242ac1c0002row5_col5\" class=\"data row5 col5\" >71.7864</td>\n",
              "                        <td id=\"T_03a3d5d8_3b28_11eb_9f87_0242ac1c0002row5_col6\" class=\"data row5 col6\" >73.9466</td>\n",
              "                        <td id=\"T_03a3d5d8_3b28_11eb_9f87_0242ac1c0002row5_col7\" class=\"data row5 col7\" >85.1846</td>\n",
              "                        <td id=\"T_03a3d5d8_3b28_11eb_9f87_0242ac1c0002row5_col8\" class=\"data row5 col8\" >97.5726</td>\n",
              "            </tr>\n",
              "            <tr>\n",
              "                        <th id=\"T_03a3d5d8_3b28_11eb_9f87_0242ac1c0002level0_row6\" class=\"row_heading level0 row6\" >6</th>\n",
              "                        <td id=\"T_03a3d5d8_3b28_11eb_9f87_0242ac1c0002row6_col0\" class=\"data row6 col0\" >Wall</td>\n",
              "                        <td id=\"T_03a3d5d8_3b28_11eb_9f87_0242ac1c0002row6_col1\" class=\"data row6 col1\" >43.7725</td>\n",
              "                        <td id=\"T_03a3d5d8_3b28_11eb_9f87_0242ac1c0002row6_col2\" class=\"data row6 col2\" >Dragon</td>\n",
              "                        <td id=\"T_03a3d5d8_3b28_11eb_9f87_0242ac1c0002row6_col3\" class=\"data row6 col3\" >Wall</td>\n",
              "                        <td id=\"T_03a3d5d8_3b28_11eb_9f87_0242ac1c0002row6_col4\" class=\"data row6 col4\" >Wall</td>\n",
              "                        <td id=\"T_03a3d5d8_3b28_11eb_9f87_0242ac1c0002row6_col5\" class=\"data row6 col5\" >70.3514</td>\n",
              "                        <td id=\"T_03a3d5d8_3b28_11eb_9f87_0242ac1c0002row6_col6\" class=\"data row6 col6\" >Wall</td>\n",
              "                        <td id=\"T_03a3d5d8_3b28_11eb_9f87_0242ac1c0002row6_col7\" class=\"data row6 col7\" >Dragon</td>\n",
              "                        <td id=\"T_03a3d5d8_3b28_11eb_9f87_0242ac1c0002row6_col8\" class=\"data row6 col8\" >88.4059</td>\n",
              "            </tr>\n",
              "            <tr>\n",
              "                        <th id=\"T_03a3d5d8_3b28_11eb_9f87_0242ac1c0002level0_row7\" class=\"row_heading level0 row7\" >7</th>\n",
              "                        <td id=\"T_03a3d5d8_3b28_11eb_9f87_0242ac1c0002row7_col0\" class=\"data row7 col0\" >Wall</td>\n",
              "                        <td id=\"T_03a3d5d8_3b28_11eb_9f87_0242ac1c0002row7_col1\" class=\"data row7 col1\" >47.9530</td>\n",
              "                        <td id=\"T_03a3d5d8_3b28_11eb_9f87_0242ac1c0002row7_col2\" class=\"data row7 col2\" >48.7687</td>\n",
              "                        <td id=\"T_03a3d5d8_3b28_11eb_9f87_0242ac1c0002row7_col3\" class=\"data row7 col3\" >58.1474</td>\n",
              "                        <td id=\"T_03a3d5d8_3b28_11eb_9f87_0242ac1c0002row7_col4\" class=\"data row7 col4\" >59.3900</td>\n",
              "                        <td id=\"T_03a3d5d8_3b28_11eb_9f87_0242ac1c0002row7_col5\" class=\"data row7 col5\" >60.1689</td>\n",
              "                        <td id=\"T_03a3d5d8_3b28_11eb_9f87_0242ac1c0002row7_col6\" class=\"data row7 col6\" >Dragon</td>\n",
              "                        <td id=\"T_03a3d5d8_3b28_11eb_9f87_0242ac1c0002row7_col7\" class=\"data row7 col7\" >Wall</td>\n",
              "                        <td id=\"T_03a3d5d8_3b28_11eb_9f87_0242ac1c0002row7_col8\" class=\"data row7 col8\" >Exit</td>\n",
              "            </tr>\n",
              "            <tr>\n",
              "                        <th id=\"T_03a3d5d8_3b28_11eb_9f87_0242ac1c0002level0_row8\" class=\"row_heading level0 row8\" >8</th>\n",
              "                        <td id=\"T_03a3d5d8_3b28_11eb_9f87_0242ac1c0002row8_col0\" class=\"data row8 col0\" >Wall</td>\n",
              "                        <td id=\"T_03a3d5d8_3b28_11eb_9f87_0242ac1c0002row8_col1\" class=\"data row8 col1\" >Wall</td>\n",
              "                        <td id=\"T_03a3d5d8_3b28_11eb_9f87_0242ac1c0002row8_col2\" class=\"data row8 col2\" >Wall</td>\n",
              "                        <td id=\"T_03a3d5d8_3b28_11eb_9f87_0242ac1c0002row8_col3\" class=\"data row8 col3\" >Wall</td>\n",
              "                        <td id=\"T_03a3d5d8_3b28_11eb_9f87_0242ac1c0002row8_col4\" class=\"data row8 col4\" >Wall</td>\n",
              "                        <td id=\"T_03a3d5d8_3b28_11eb_9f87_0242ac1c0002row8_col5\" class=\"data row8 col5\" >Wall</td>\n",
              "                        <td id=\"T_03a3d5d8_3b28_11eb_9f87_0242ac1c0002row8_col6\" class=\"data row8 col6\" >Wall</td>\n",
              "                        <td id=\"T_03a3d5d8_3b28_11eb_9f87_0242ac1c0002row8_col7\" class=\"data row8 col7\" >Wall</td>\n",
              "                        <td id=\"T_03a3d5d8_3b28_11eb_9f87_0242ac1c0002row8_col8\" class=\"data row8 col8\" >Wall</td>\n",
              "            </tr>\n",
              "    </tbody></table>"
            ],
            "text/plain": [
              "<pandas.io.formats.style.Styler at 0x7fc335a0a080>"
            ]
          },
          "metadata": {
            "tags": []
          },
          "execution_count": 20
        }
      ]
    },
    {
      "cell_type": "code",
      "metadata": {
        "id": "BxMedMDrV2Jz"
      },
      "source": [
        "opt_policy_map = []\n",
        "unexprbl = ['Wall', 'Dragon', 'Exit']\n",
        "for i in range(9):\n",
        "    row_list = []\n",
        "    for j in range(9):\n",
        "        val = V_opt[i * j]\n",
        "        row_list.append(actions[int(pi_opt[int(i * j)])])\n",
        "    opt_policy_map.append(row_list)"
      ],
      "execution_count": null,
      "outputs": []
    },
    {
      "cell_type": "code",
      "metadata": {
        "id": "XC0sRp1iV2J0"
      },
      "source": [
        "arrow_map = np.flipud(np.rot90(np.array(opt_policy_map).reshape((9, 9))))"
      ],
      "execution_count": null,
      "outputs": []
    },
    {
      "cell_type": "code",
      "metadata": {
        "id": "a27cxQtCV2J0"
      },
      "source": [
        "opt_policy_map = []\n",
        "arrow_map = np.flipud(np.rot90(np.array(pi_opt).reshape(9, 9)))\n",
        "for i in range(9):\n",
        "    row_list = []\n",
        "    for j in range(9):\n",
        "        val = print_list[i][j]\n",
        "        if val in unexprbl:\n",
        "            row_list.append(val)\n",
        "        else:\n",
        "            row_list.append(actions[int(arrow_map[i, j])])\n",
        "    opt_policy_map.append(row_list)"
      ],
      "execution_count": null,
      "outputs": []
    },
    {
      "cell_type": "code",
      "metadata": {
        "colab": {
          "base_uri": "https://localhost:8080/",
          "height": 218
        },
        "id": "OrudsrQ-V2J0",
        "outputId": "f7310cb4-2bab-4985-feb9-cab5fcf11002"
      },
      "source": [
        "df = pd.DataFrame(opt_policy_map)\n",
        "s = df.style.applymap(color_map)\n",
        "s"
      ],
      "execution_count": null,
      "outputs": [
        {
          "output_type": "execute_result",
          "data": {
            "text/html": [
              "<style  type=\"text/css\" >\n",
              "#T_03aec40c_3b28_11eb_9f87_0242ac1c0002row0_col0,#T_03aec40c_3b28_11eb_9f87_0242ac1c0002row0_col1,#T_03aec40c_3b28_11eb_9f87_0242ac1c0002row0_col2,#T_03aec40c_3b28_11eb_9f87_0242ac1c0002row0_col3,#T_03aec40c_3b28_11eb_9f87_0242ac1c0002row0_col4,#T_03aec40c_3b28_11eb_9f87_0242ac1c0002row0_col5,#T_03aec40c_3b28_11eb_9f87_0242ac1c0002row0_col6,#T_03aec40c_3b28_11eb_9f87_0242ac1c0002row0_col7,#T_03aec40c_3b28_11eb_9f87_0242ac1c0002row0_col8,#T_03aec40c_3b28_11eb_9f87_0242ac1c0002row1_col0,#T_03aec40c_3b28_11eb_9f87_0242ac1c0002row1_col7,#T_03aec40c_3b28_11eb_9f87_0242ac1c0002row2_col0,#T_03aec40c_3b28_11eb_9f87_0242ac1c0002row3_col0,#T_03aec40c_3b28_11eb_9f87_0242ac1c0002row3_col4,#T_03aec40c_3b28_11eb_9f87_0242ac1c0002row3_col6,#T_03aec40c_3b28_11eb_9f87_0242ac1c0002row4_col2,#T_03aec40c_3b28_11eb_9f87_0242ac1c0002row5_col0,#T_03aec40c_3b28_11eb_9f87_0242ac1c0002row6_col0,#T_03aec40c_3b28_11eb_9f87_0242ac1c0002row6_col3,#T_03aec40c_3b28_11eb_9f87_0242ac1c0002row6_col4,#T_03aec40c_3b28_11eb_9f87_0242ac1c0002row6_col6,#T_03aec40c_3b28_11eb_9f87_0242ac1c0002row7_col0,#T_03aec40c_3b28_11eb_9f87_0242ac1c0002row7_col7,#T_03aec40c_3b28_11eb_9f87_0242ac1c0002row8_col0,#T_03aec40c_3b28_11eb_9f87_0242ac1c0002row8_col1,#T_03aec40c_3b28_11eb_9f87_0242ac1c0002row8_col2,#T_03aec40c_3b28_11eb_9f87_0242ac1c0002row8_col3,#T_03aec40c_3b28_11eb_9f87_0242ac1c0002row8_col4,#T_03aec40c_3b28_11eb_9f87_0242ac1c0002row8_col5,#T_03aec40c_3b28_11eb_9f87_0242ac1c0002row8_col6,#T_03aec40c_3b28_11eb_9f87_0242ac1c0002row8_col7,#T_03aec40c_3b28_11eb_9f87_0242ac1c0002row8_col8{\n",
              "            color:  gray;\n",
              "        }#T_03aec40c_3b28_11eb_9f87_0242ac1c0002row1_col1,#T_03aec40c_3b28_11eb_9f87_0242ac1c0002row1_col2,#T_03aec40c_3b28_11eb_9f87_0242ac1c0002row1_col3,#T_03aec40c_3b28_11eb_9f87_0242ac1c0002row1_col4,#T_03aec40c_3b28_11eb_9f87_0242ac1c0002row1_col5,#T_03aec40c_3b28_11eb_9f87_0242ac1c0002row2_col1,#T_03aec40c_3b28_11eb_9f87_0242ac1c0002row2_col3,#T_03aec40c_3b28_11eb_9f87_0242ac1c0002row2_col4,#T_03aec40c_3b28_11eb_9f87_0242ac1c0002row2_col5,#T_03aec40c_3b28_11eb_9f87_0242ac1c0002row2_col6,#T_03aec40c_3b28_11eb_9f87_0242ac1c0002row2_col7,#T_03aec40c_3b28_11eb_9f87_0242ac1c0002row2_col8,#T_03aec40c_3b28_11eb_9f87_0242ac1c0002row3_col1,#T_03aec40c_3b28_11eb_9f87_0242ac1c0002row3_col2,#T_03aec40c_3b28_11eb_9f87_0242ac1c0002row3_col3,#T_03aec40c_3b28_11eb_9f87_0242ac1c0002row3_col5,#T_03aec40c_3b28_11eb_9f87_0242ac1c0002row3_col7,#T_03aec40c_3b28_11eb_9f87_0242ac1c0002row3_col8,#T_03aec40c_3b28_11eb_9f87_0242ac1c0002row4_col0,#T_03aec40c_3b28_11eb_9f87_0242ac1c0002row4_col1,#T_03aec40c_3b28_11eb_9f87_0242ac1c0002row4_col5,#T_03aec40c_3b28_11eb_9f87_0242ac1c0002row4_col7,#T_03aec40c_3b28_11eb_9f87_0242ac1c0002row5_col1,#T_03aec40c_3b28_11eb_9f87_0242ac1c0002row5_col2,#T_03aec40c_3b28_11eb_9f87_0242ac1c0002row5_col3,#T_03aec40c_3b28_11eb_9f87_0242ac1c0002row5_col4,#T_03aec40c_3b28_11eb_9f87_0242ac1c0002row5_col5,#T_03aec40c_3b28_11eb_9f87_0242ac1c0002row5_col6,#T_03aec40c_3b28_11eb_9f87_0242ac1c0002row5_col7,#T_03aec40c_3b28_11eb_9f87_0242ac1c0002row5_col8,#T_03aec40c_3b28_11eb_9f87_0242ac1c0002row6_col1,#T_03aec40c_3b28_11eb_9f87_0242ac1c0002row6_col5,#T_03aec40c_3b28_11eb_9f87_0242ac1c0002row6_col8,#T_03aec40c_3b28_11eb_9f87_0242ac1c0002row7_col1,#T_03aec40c_3b28_11eb_9f87_0242ac1c0002row7_col2,#T_03aec40c_3b28_11eb_9f87_0242ac1c0002row7_col3,#T_03aec40c_3b28_11eb_9f87_0242ac1c0002row7_col4,#T_03aec40c_3b28_11eb_9f87_0242ac1c0002row7_col5{\n",
              "            color:  black;\n",
              "        }#T_03aec40c_3b28_11eb_9f87_0242ac1c0002row1_col6,#T_03aec40c_3b28_11eb_9f87_0242ac1c0002row2_col2,#T_03aec40c_3b28_11eb_9f87_0242ac1c0002row4_col3,#T_03aec40c_3b28_11eb_9f87_0242ac1c0002row4_col4,#T_03aec40c_3b28_11eb_9f87_0242ac1c0002row4_col6,#T_03aec40c_3b28_11eb_9f87_0242ac1c0002row6_col2,#T_03aec40c_3b28_11eb_9f87_0242ac1c0002row6_col7,#T_03aec40c_3b28_11eb_9f87_0242ac1c0002row7_col6{\n",
              "            color:  red;\n",
              "        }#T_03aec40c_3b28_11eb_9f87_0242ac1c0002row1_col8,#T_03aec40c_3b28_11eb_9f87_0242ac1c0002row4_col8,#T_03aec40c_3b28_11eb_9f87_0242ac1c0002row7_col8{\n",
              "            color:  blue;\n",
              "        }</style><table id=\"T_03aec40c_3b28_11eb_9f87_0242ac1c0002\" ><thead>    <tr>        <th class=\"blank level0\" ></th>        <th class=\"col_heading level0 col0\" >0</th>        <th class=\"col_heading level0 col1\" >1</th>        <th class=\"col_heading level0 col2\" >2</th>        <th class=\"col_heading level0 col3\" >3</th>        <th class=\"col_heading level0 col4\" >4</th>        <th class=\"col_heading level0 col5\" >5</th>        <th class=\"col_heading level0 col6\" >6</th>        <th class=\"col_heading level0 col7\" >7</th>        <th class=\"col_heading level0 col8\" >8</th>    </tr></thead><tbody>\n",
              "                <tr>\n",
              "                        <th id=\"T_03aec40c_3b28_11eb_9f87_0242ac1c0002level0_row0\" class=\"row_heading level0 row0\" >0</th>\n",
              "                        <td id=\"T_03aec40c_3b28_11eb_9f87_0242ac1c0002row0_col0\" class=\"data row0 col0\" >Wall</td>\n",
              "                        <td id=\"T_03aec40c_3b28_11eb_9f87_0242ac1c0002row0_col1\" class=\"data row0 col1\" >Wall</td>\n",
              "                        <td id=\"T_03aec40c_3b28_11eb_9f87_0242ac1c0002row0_col2\" class=\"data row0 col2\" >Wall</td>\n",
              "                        <td id=\"T_03aec40c_3b28_11eb_9f87_0242ac1c0002row0_col3\" class=\"data row0 col3\" >Wall</td>\n",
              "                        <td id=\"T_03aec40c_3b28_11eb_9f87_0242ac1c0002row0_col4\" class=\"data row0 col4\" >Wall</td>\n",
              "                        <td id=\"T_03aec40c_3b28_11eb_9f87_0242ac1c0002row0_col5\" class=\"data row0 col5\" >Wall</td>\n",
              "                        <td id=\"T_03aec40c_3b28_11eb_9f87_0242ac1c0002row0_col6\" class=\"data row0 col6\" >Wall</td>\n",
              "                        <td id=\"T_03aec40c_3b28_11eb_9f87_0242ac1c0002row0_col7\" class=\"data row0 col7\" >Wall</td>\n",
              "                        <td id=\"T_03aec40c_3b28_11eb_9f87_0242ac1c0002row0_col8\" class=\"data row0 col8\" >Wall</td>\n",
              "            </tr>\n",
              "            <tr>\n",
              "                        <th id=\"T_03aec40c_3b28_11eb_9f87_0242ac1c0002level0_row1\" class=\"row_heading level0 row1\" >1</th>\n",
              "                        <td id=\"T_03aec40c_3b28_11eb_9f87_0242ac1c0002row1_col0\" class=\"data row1 col0\" >Wall</td>\n",
              "                        <td id=\"T_03aec40c_3b28_11eb_9f87_0242ac1c0002row1_col1\" class=\"data row1 col1\" >→</td>\n",
              "                        <td id=\"T_03aec40c_3b28_11eb_9f87_0242ac1c0002row1_col2\" class=\"data row1 col2\" >→</td>\n",
              "                        <td id=\"T_03aec40c_3b28_11eb_9f87_0242ac1c0002row1_col3\" class=\"data row1 col3\" >→</td>\n",
              "                        <td id=\"T_03aec40c_3b28_11eb_9f87_0242ac1c0002row1_col4\" class=\"data row1 col4\" >↓</td>\n",
              "                        <td id=\"T_03aec40c_3b28_11eb_9f87_0242ac1c0002row1_col5\" class=\"data row1 col5\" >↓</td>\n",
              "                        <td id=\"T_03aec40c_3b28_11eb_9f87_0242ac1c0002row1_col6\" class=\"data row1 col6\" >Dragon</td>\n",
              "                        <td id=\"T_03aec40c_3b28_11eb_9f87_0242ac1c0002row1_col7\" class=\"data row1 col7\" >Wall</td>\n",
              "                        <td id=\"T_03aec40c_3b28_11eb_9f87_0242ac1c0002row1_col8\" class=\"data row1 col8\" >Exit</td>\n",
              "            </tr>\n",
              "            <tr>\n",
              "                        <th id=\"T_03aec40c_3b28_11eb_9f87_0242ac1c0002level0_row2\" class=\"row_heading level0 row2\" >2</th>\n",
              "                        <td id=\"T_03aec40c_3b28_11eb_9f87_0242ac1c0002row2_col0\" class=\"data row2 col0\" >Wall</td>\n",
              "                        <td id=\"T_03aec40c_3b28_11eb_9f87_0242ac1c0002row2_col1\" class=\"data row2 col1\" >↑</td>\n",
              "                        <td id=\"T_03aec40c_3b28_11eb_9f87_0242ac1c0002row2_col2\" class=\"data row2 col2\" >Dragon</td>\n",
              "                        <td id=\"T_03aec40c_3b28_11eb_9f87_0242ac1c0002row2_col3\" class=\"data row2 col3\" >→</td>\n",
              "                        <td id=\"T_03aec40c_3b28_11eb_9f87_0242ac1c0002row2_col4\" class=\"data row2 col4\" >→</td>\n",
              "                        <td id=\"T_03aec40c_3b28_11eb_9f87_0242ac1c0002row2_col5\" class=\"data row2 col5\" >→</td>\n",
              "                        <td id=\"T_03aec40c_3b28_11eb_9f87_0242ac1c0002row2_col6\" class=\"data row2 col6\" >→</td>\n",
              "                        <td id=\"T_03aec40c_3b28_11eb_9f87_0242ac1c0002row2_col7\" class=\"data row2 col7\" >→</td>\n",
              "                        <td id=\"T_03aec40c_3b28_11eb_9f87_0242ac1c0002row2_col8\" class=\"data row2 col8\" >↑</td>\n",
              "            </tr>\n",
              "            <tr>\n",
              "                        <th id=\"T_03aec40c_3b28_11eb_9f87_0242ac1c0002level0_row3\" class=\"row_heading level0 row3\" >3</th>\n",
              "                        <td id=\"T_03aec40c_3b28_11eb_9f87_0242ac1c0002row3_col0\" class=\"data row3 col0\" >Wall</td>\n",
              "                        <td id=\"T_03aec40c_3b28_11eb_9f87_0242ac1c0002row3_col1\" class=\"data row3 col1\" >↑</td>\n",
              "                        <td id=\"T_03aec40c_3b28_11eb_9f87_0242ac1c0002row3_col2\" class=\"data row3 col2\" >→</td>\n",
              "                        <td id=\"T_03aec40c_3b28_11eb_9f87_0242ac1c0002row3_col3\" class=\"data row3 col3\" >↑</td>\n",
              "                        <td id=\"T_03aec40c_3b28_11eb_9f87_0242ac1c0002row3_col4\" class=\"data row3 col4\" >Wall</td>\n",
              "                        <td id=\"T_03aec40c_3b28_11eb_9f87_0242ac1c0002row3_col5\" class=\"data row3 col5\" >↑</td>\n",
              "                        <td id=\"T_03aec40c_3b28_11eb_9f87_0242ac1c0002row3_col6\" class=\"data row3 col6\" >Wall</td>\n",
              "                        <td id=\"T_03aec40c_3b28_11eb_9f87_0242ac1c0002row3_col7\" class=\"data row3 col7\" >→</td>\n",
              "                        <td id=\"T_03aec40c_3b28_11eb_9f87_0242ac1c0002row3_col8\" class=\"data row3 col8\" >↓</td>\n",
              "            </tr>\n",
              "            <tr>\n",
              "                        <th id=\"T_03aec40c_3b28_11eb_9f87_0242ac1c0002level0_row4\" class=\"row_heading level0 row4\" >4</th>\n",
              "                        <td id=\"T_03aec40c_3b28_11eb_9f87_0242ac1c0002row4_col0\" class=\"data row4 col0\" >→</td>\n",
              "                        <td id=\"T_03aec40c_3b28_11eb_9f87_0242ac1c0002row4_col1\" class=\"data row4 col1\" >↑</td>\n",
              "                        <td id=\"T_03aec40c_3b28_11eb_9f87_0242ac1c0002row4_col2\" class=\"data row4 col2\" >Wall</td>\n",
              "                        <td id=\"T_03aec40c_3b28_11eb_9f87_0242ac1c0002row4_col3\" class=\"data row4 col3\" >Dragon</td>\n",
              "                        <td id=\"T_03aec40c_3b28_11eb_9f87_0242ac1c0002row4_col4\" class=\"data row4 col4\" >Dragon</td>\n",
              "                        <td id=\"T_03aec40c_3b28_11eb_9f87_0242ac1c0002row4_col5\" class=\"data row4 col5\" >↑</td>\n",
              "                        <td id=\"T_03aec40c_3b28_11eb_9f87_0242ac1c0002row4_col6\" class=\"data row4 col6\" >Dragon</td>\n",
              "                        <td id=\"T_03aec40c_3b28_11eb_9f87_0242ac1c0002row4_col7\" class=\"data row4 col7\" >→</td>\n",
              "                        <td id=\"T_03aec40c_3b28_11eb_9f87_0242ac1c0002row4_col8\" class=\"data row4 col8\" >Exit</td>\n",
              "            </tr>\n",
              "            <tr>\n",
              "                        <th id=\"T_03aec40c_3b28_11eb_9f87_0242ac1c0002level0_row5\" class=\"row_heading level0 row5\" >5</th>\n",
              "                        <td id=\"T_03aec40c_3b28_11eb_9f87_0242ac1c0002row5_col0\" class=\"data row5 col0\" >Wall</td>\n",
              "                        <td id=\"T_03aec40c_3b28_11eb_9f87_0242ac1c0002row5_col1\" class=\"data row5 col1\" >↑</td>\n",
              "                        <td id=\"T_03aec40c_3b28_11eb_9f87_0242ac1c0002row5_col2\" class=\"data row5 col2\" >←</td>\n",
              "                        <td id=\"T_03aec40c_3b28_11eb_9f87_0242ac1c0002row5_col3\" class=\"data row5 col3\" >→</td>\n",
              "                        <td id=\"T_03aec40c_3b28_11eb_9f87_0242ac1c0002row5_col4\" class=\"data row5 col4\" >→</td>\n",
              "                        <td id=\"T_03aec40c_3b28_11eb_9f87_0242ac1c0002row5_col5\" class=\"data row5 col5\" >→</td>\n",
              "                        <td id=\"T_03aec40c_3b28_11eb_9f87_0242ac1c0002row5_col6\" class=\"data row5 col6\" >→</td>\n",
              "                        <td id=\"T_03aec40c_3b28_11eb_9f87_0242ac1c0002row5_col7\" class=\"data row5 col7\" >→</td>\n",
              "                        <td id=\"T_03aec40c_3b28_11eb_9f87_0242ac1c0002row5_col8\" class=\"data row5 col8\" >↑</td>\n",
              "            </tr>\n",
              "            <tr>\n",
              "                        <th id=\"T_03aec40c_3b28_11eb_9f87_0242ac1c0002level0_row6\" class=\"row_heading level0 row6\" >6</th>\n",
              "                        <td id=\"T_03aec40c_3b28_11eb_9f87_0242ac1c0002row6_col0\" class=\"data row6 col0\" >Wall</td>\n",
              "                        <td id=\"T_03aec40c_3b28_11eb_9f87_0242ac1c0002row6_col1\" class=\"data row6 col1\" >↑</td>\n",
              "                        <td id=\"T_03aec40c_3b28_11eb_9f87_0242ac1c0002row6_col2\" class=\"data row6 col2\" >Dragon</td>\n",
              "                        <td id=\"T_03aec40c_3b28_11eb_9f87_0242ac1c0002row6_col3\" class=\"data row6 col3\" >Wall</td>\n",
              "                        <td id=\"T_03aec40c_3b28_11eb_9f87_0242ac1c0002row6_col4\" class=\"data row6 col4\" >Wall</td>\n",
              "                        <td id=\"T_03aec40c_3b28_11eb_9f87_0242ac1c0002row6_col5\" class=\"data row6 col5\" >↑</td>\n",
              "                        <td id=\"T_03aec40c_3b28_11eb_9f87_0242ac1c0002row6_col6\" class=\"data row6 col6\" >Wall</td>\n",
              "                        <td id=\"T_03aec40c_3b28_11eb_9f87_0242ac1c0002row6_col7\" class=\"data row6 col7\" >Dragon</td>\n",
              "                        <td id=\"T_03aec40c_3b28_11eb_9f87_0242ac1c0002row6_col8\" class=\"data row6 col8\" >↓</td>\n",
              "            </tr>\n",
              "            <tr>\n",
              "                        <th id=\"T_03aec40c_3b28_11eb_9f87_0242ac1c0002level0_row7\" class=\"row_heading level0 row7\" >7</th>\n",
              "                        <td id=\"T_03aec40c_3b28_11eb_9f87_0242ac1c0002row7_col0\" class=\"data row7 col0\" >Wall</td>\n",
              "                        <td id=\"T_03aec40c_3b28_11eb_9f87_0242ac1c0002row7_col1\" class=\"data row7 col1\" >→</td>\n",
              "                        <td id=\"T_03aec40c_3b28_11eb_9f87_0242ac1c0002row7_col2\" class=\"data row7 col2\" >→</td>\n",
              "                        <td id=\"T_03aec40c_3b28_11eb_9f87_0242ac1c0002row7_col3\" class=\"data row7 col3\" >→</td>\n",
              "                        <td id=\"T_03aec40c_3b28_11eb_9f87_0242ac1c0002row7_col4\" class=\"data row7 col4\" >→</td>\n",
              "                        <td id=\"T_03aec40c_3b28_11eb_9f87_0242ac1c0002row7_col5\" class=\"data row7 col5\" >↑</td>\n",
              "                        <td id=\"T_03aec40c_3b28_11eb_9f87_0242ac1c0002row7_col6\" class=\"data row7 col6\" >Dragon</td>\n",
              "                        <td id=\"T_03aec40c_3b28_11eb_9f87_0242ac1c0002row7_col7\" class=\"data row7 col7\" >Wall</td>\n",
              "                        <td id=\"T_03aec40c_3b28_11eb_9f87_0242ac1c0002row7_col8\" class=\"data row7 col8\" >Exit</td>\n",
              "            </tr>\n",
              "            <tr>\n",
              "                        <th id=\"T_03aec40c_3b28_11eb_9f87_0242ac1c0002level0_row8\" class=\"row_heading level0 row8\" >8</th>\n",
              "                        <td id=\"T_03aec40c_3b28_11eb_9f87_0242ac1c0002row8_col0\" class=\"data row8 col0\" >Wall</td>\n",
              "                        <td id=\"T_03aec40c_3b28_11eb_9f87_0242ac1c0002row8_col1\" class=\"data row8 col1\" >Wall</td>\n",
              "                        <td id=\"T_03aec40c_3b28_11eb_9f87_0242ac1c0002row8_col2\" class=\"data row8 col2\" >Wall</td>\n",
              "                        <td id=\"T_03aec40c_3b28_11eb_9f87_0242ac1c0002row8_col3\" class=\"data row8 col3\" >Wall</td>\n",
              "                        <td id=\"T_03aec40c_3b28_11eb_9f87_0242ac1c0002row8_col4\" class=\"data row8 col4\" >Wall</td>\n",
              "                        <td id=\"T_03aec40c_3b28_11eb_9f87_0242ac1c0002row8_col5\" class=\"data row8 col5\" >Wall</td>\n",
              "                        <td id=\"T_03aec40c_3b28_11eb_9f87_0242ac1c0002row8_col6\" class=\"data row8 col6\" >Wall</td>\n",
              "                        <td id=\"T_03aec40c_3b28_11eb_9f87_0242ac1c0002row8_col7\" class=\"data row8 col7\" >Wall</td>\n",
              "                        <td id=\"T_03aec40c_3b28_11eb_9f87_0242ac1c0002row8_col8\" class=\"data row8 col8\" >Wall</td>\n",
              "            </tr>\n",
              "    </tbody></table>"
            ],
            "text/plain": [
              "<pandas.io.formats.style.Styler at 0x7fc332e95198>"
            ]
          },
          "metadata": {
            "tags": []
          },
          "execution_count": 24
        }
      ]
    }
  ]
}